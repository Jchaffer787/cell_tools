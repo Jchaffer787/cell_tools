{
 "cells": [
  {
   "cell_type": "markdown",
   "metadata": {},
   "source": [
    "# Python notebook for ad hoc testing.\n",
    "\n",
    "\n",
    "\n",
    "\n"
   ]
  },
  {
   "cell_type": "code",
   "execution_count": 3,
   "metadata": {},
   "outputs": [
    {
     "data": {
      "application/vnd.jupyter.widget-view+json": {
       "model_id": "9f0b649837fd487082b7b999aadda51b",
       "version_major": 2,
       "version_minor": 0
      },
      "text/plain": [
       "interactive(children=(Select(description='Results dir', layout=Layout(width='400px'), options=('20200711-15285…"
      ]
     },
     "metadata": {},
     "output_type": "display_data"
    }
   ],
   "source": [
    "%matplotlib widget\n",
    "\n",
    "# global variables\n",
    "results_sel = \"\"  # the selected results directory\n",
    "\n",
    "# create results directory widget\n",
    "result_dirs = sorted([f.split('/')[-2] for f in glob.glob(\"../results/*/\", recursive=False)], key=str.casefold)\n",
    "results_widget = widgets.Select(options=result_dirs, description='Results dir', \n",
    "                            disabled=False, layout=widgets.Layout(width='400px'))\n",
    "\n",
    "# display and respond to the widgets\n",
    "def f(w1):\n",
    "  global results_sel\n",
    "  results_sel = results_widget.value\n",
    "display(widgets.interactive(f, w1=results_widget))\n"
   ]
  },
  {
   "cell_type": "code",
   "execution_count": null,
   "metadata": {},
   "outputs": [],
   "source": []
  }
 ],
 "metadata": {
  "kernelspec": {
   "display_name": "Python 3",
   "language": "python",
   "name": "python3"
  },
  "language_info": {
   "codemirror_mode": {
    "name": "ipython",
    "version": 3
   },
   "file_extension": ".py",
   "mimetype": "text/x-python",
   "name": "python",
   "nbconvert_exporter": "python",
   "pygments_lexer": "ipython3",
   "version": "3.8.3"
  }
 },
 "nbformat": 4,
 "nbformat_minor": 4
}
