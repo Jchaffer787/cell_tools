{
 "cells": [
  {
   "cell_type": "markdown",
   "metadata": {},
   "source": [
    "# Python notebook for finding peaks in csv file data.\n",
    "Assumes folder directory structure:\n",
    "<pre><code>  IMAGING\n",
    "    image_stacks\n",
    "    notebooks\n",
    "    results\n",
    "</code></pre>\n",
    "NOTE: Looks for data files in the image_stacks directory.<br>\n",
    "Execute the code sequentially, one block at a time, using &lt;shift-return&gt;."
   ]
  },
  {
   "cell_type": "code",
   "execution_count": null,
   "metadata": {
    "jupyter": {
     "source_hidden": true
    }
   },
   "outputs": [],
   "source": [
    "from __future__ import print_function\n",
    "import csv\n",
    "import datetime\n",
    "import glob\n",
    "import os\n",
    "from ipywidgets import interact, Layout\n",
    "import ipywidgets as widgets\n",
    "import matplotlib as mpl\n",
    "import matplotlib.pyplot as plt\n",
    "import numpy as np\n",
    "from scipy.interpolate import interp1d\n",
    "from scipy import signal\n",
    "\n",
    "# global variables\n",
    "if os.name == \"nt\":\n",
    "    FILE_SEP = \"\\\\\"\n",
    "else:\n",
    "    FILE_SEP = \"/\"\n"
   ]
  },
  {
   "cell_type": "markdown",
   "metadata": {},
   "source": [
    "#### Create a new time-stamped results directory."
   ]
  },
  {
   "cell_type": "code",
   "execution_count": null,
   "metadata": {
    "jupyter": {
     "source_hidden": true
    }
   },
   "outputs": [],
   "source": [
    "# create time-stamped results directory\n",
    "if not os.path.exists(\"../results\"):\n",
    "  os.mkdir(\"../results\")\n",
    "resultsdir = str(datetime.datetime.now())[:-7]\n",
    "resultsdir = resultsdir.replace('-', '').replace(' ', '-').replace(':','')\n",
    "resultsdir = \"../results/\" + resultsdir\n",
    "os.mkdir(resultsdir)\n"
   ]
  },
  {
   "cell_type": "markdown",
   "metadata": {},
   "source": [
    "#### Select a data file and one or more regions.\n",
    "NOTE: Assumes file format in which the first column contains time values in seconds and subsequent region columns contain intensity data.<br>\n",
    "Select multiple regions using &lt;command-click&gt;."
   ]
  },
  {
   "cell_type": "code",
   "execution_count": null,
   "metadata": {
    "jupyter": {
     "source_hidden": true
    }
   },
   "outputs": [],
   "source": [
    "%matplotlib widget\n",
    "\n",
    "# global variables\n",
    "data_file = \"\"  # the selected data file\n",
    "data_cols = []  # the data columns\n",
    "\n",
    "# create data files widget\n",
    "data_files = sorted([f.split(FILE_SEP)[-1] for f in glob.glob(\"../image_stacks/*.csv\", recursive=False)], key=str.casefold)\n",
    "data_files_widget = widgets.Select(options=data_files, description='Data file', \n",
    "                            disabled=False, layout={'width':'400px'}, style={'description_width':'100px'})\n",
    "# create region columns widget\n",
    "columns_widget = widgets.SelectMultiple(options=[], description='Region cols',\n",
    "                            disabled=False, layout={'width':'150px', 'height':'120px'}, style={'description_width':'100px'})\n",
    "\n",
    "# create status widget\n",
    "status_widget = widgets.HTML(value=' ', description=' ')\n",
    "\n",
    "# update the columns based on the data file selection\n",
    "def update_columns(*args):\n",
    "  if data_files_widget.value == None:\n",
    "    return\n",
    "  with open(\"../image_stacks/\" + data_files_widget.value, 'r', encoding='utf-8-sig') as f: \n",
    "    cols = (np.genfromtxt(f, dtype=float, delimiter=',')).shape[1]\n",
    "  columns_widget.options = range(1,cols)\n",
    "  columns_widget.value = [1]\n",
    "\n",
    "# widget change callbacks\n",
    "data_files_widget.observe(update_columns, 'value')\n",
    "\n",
    "# display and respond to the widgets\n",
    "update_columns()\n",
    "def f(w1, w2, w3):\n",
    "  global data_file, data_cols, zones\n",
    "  data_file = data_files_widget.value\n",
    "  data_cols = columns_widget.value\n",
    "  if not data_file:\n",
    "    status_widget.value = \"No data file selected.\"\n",
    "  else:\n",
    "    if not data_cols:\n",
    "      status_widget.value = \"No region(s) selected.\"\n",
    "    else:\n",
    "      status_widget.value = \"Selection OK.\"\n",
    "\n",
    "display(widgets.interactive(f, w1=data_files_widget, w2=columns_widget, w3=status_widget))\n"
   ]
  },
  {
   "cell_type": "markdown",
   "metadata": {},
   "source": [
    "#### Plot data."
   ]
  },
  {
   "cell_type": "code",
   "execution_count": null,
   "metadata": {
    "jupyter": {
     "source_hidden": true
    }
   },
   "outputs": [],
   "source": [
    "%matplotlib inline\n",
    "\n",
    "#global variables\n",
    "cols = np.array(data_cols)\n",
    "\n",
    "with open(\"../image_stacks/\" + data_file, 'r', encoding='utf-8-sig') as f: \n",
    "  A0 = np.transpose(np.genfromtxt(f, dtype=float, delimiter=','))\n",
    "tmin = np.min(A0[0])            # start time\n",
    "tmax = np.max(A0[0])            # finish time\n",
    "\n",
    "dmin = np.amin(A0[cols])\n",
    "dmax = np.amax(A0[cols])\n",
    "\n",
    "plt.close('all')\n",
    "fig, ax = plt.subplots(ncols=1, nrows=1, figsize=(13,3), constrained_layout=True)\n",
    "ax.set_title(\"Data in selected regions\")\n",
    "ax.set(ylabel=\"intensity\")\n",
    "ax.set(xlabel=\"time (s)\")\n",
    "ax.plot(A0[0],np.transpose(A0[cols]))\n",
    "if len(data_cols) < 11:\n",
    "  ax.legend(cols, title='region', fontsize=8)\n",
    "plt.show()\n"
   ]
  },
  {
   "cell_type": "markdown",
   "metadata": {},
   "source": [
    "#### Set stimulation time zone ranges."
   ]
  },
  {
   "cell_type": "code",
   "execution_count": null,
   "metadata": {
    "jupyter": {
     "source_hidden": true
    }
   },
   "outputs": [],
   "source": [
    "%matplotlib widget\n",
    "\n",
    "# global variables\n",
    "zones = [] # stimulation time zones \n",
    "\n",
    "# create number of zones widget\n",
    "num_zones_widget = widgets.Dropdown(\n",
    "    options=['1','2','3','4','5','6'],\n",
    "    value='1',\n",
    "    description='Number of zones:',\n",
    "    disabled=False,\n",
    "    layout={'width':'270px'}, style={'description_width':'200px'}\n",
    ")\n",
    "\n",
    "# create zone widget(s)\n",
    "zone_widgets = []\n",
    "for i in range(len(num_zones_widget.options)):\n",
    "    zone_widgets.append(widgets.IntRangeSlider(\n",
    "        value=(tmin,tmin), min=tmin, max=tmax, step=10,\n",
    "        description=\"Stimulation zone \" + str(i+1) +' (s)',\n",
    "        disabled=True, continuous_update=False, orientation='horizontal',\n",
    "        readout=True, readout_format='d',\n",
    "        layout={'width':'700px'}, style={'description_width':'200px'}))\n",
    "\n",
    "# update the zone widgets based on the number of zones value\n",
    "def update_zone_widgets(*args):\n",
    "    for i,z in enumerate(zone_widgets):\n",
    "        nz = int(num_zones_widget.value) # the desired number of zones\n",
    "        dt = int(tmax-tmin) / nz\n",
    "        if(i+1 <= nz):\n",
    "            z.value = (tmin + (i*dt), tmin + (i+1)*dt)\n",
    "            z.disabled = False\n",
    "        else:\n",
    "            z.value = (tmin,tmin)\n",
    "            z.disabled = True\n",
    "\n",
    "# widget change callbacks\n",
    "num_zones_widget.observe(update_zone_widgets, 'value')\n",
    "\n",
    "# display and respond to the widgets\n",
    "update_zone_widgets()\n",
    "def f(w1, w2, w3, w4, w5, w6, w7):\n",
    "  global zones\n",
    "  zones = [w.value for w in zone_widgets if not w.disabled]\n",
    "\n",
    "display(widgets.interactive(f,\n",
    "                           w1=num_zones_widget,\n",
    "                           w2=zone_widgets[0],\n",
    "                           w3=zone_widgets[1],\n",
    "                           w4=zone_widgets[2],\n",
    "                           w5=zone_widgets[3],\n",
    "                           w6=zone_widgets[4],\n",
    "                           w7=zone_widgets[5]))\n"
   ]
  },
  {
   "cell_type": "markdown",
   "metadata": {},
   "source": [
    "#### Plot data and stimulation time zones."
   ]
  },
  {
   "cell_type": "code",
   "execution_count": null,
   "metadata": {
    "jupyter": {
     "source_hidden": true
    }
   },
   "outputs": [],
   "source": [
    "%matplotlib inline\n",
    "\n",
    "#global variables\n",
    "zn = np.array(zones)\n",
    "\n",
    "plt.close('all')\n",
    "fig, ax = plt.subplots(ncols=1, nrows=1, figsize=(13,3), constrained_layout=True)\n",
    "ax.set_title(\"Stimulation time zone ranges\")\n",
    "ax.set(ylabel=\"intensity\")\n",
    "ax.set(xlabel=\"time (s)\")\n",
    "ax.plot(A0[0],np.transpose(A0[cols]))\n",
    "ax.plot([zn[:,0],zn[:,0]],[dmin,dmax],color='black')\n",
    "ax.plot([zn[:,1],zn[:,1]],[dmin,dmax],color='black')\n",
    "if len(data_cols) < 11:\n",
    "  ax.legend(cols, title='region', fontsize=8)\n",
    "plt.show()\n"
   ]
  },
  {
   "cell_type": "markdown",
   "metadata": {},
   "source": [
    "#### Set peak counting sensitivity."
   ]
  },
  {
   "cell_type": "code",
   "execution_count": null,
   "metadata": {
    "jupyter": {
     "source_hidden": true
    }
   },
   "outputs": [],
   "source": [
    "%matplotlib widget\n",
    "\n",
    "# global variables\n",
    "pk_options = (0,0)\n",
    "\n",
    "# create number of zones widget\n",
    "sensitivity_widget = widgets.Dropdown(\n",
    "    options=[('low',(0.06,4)),('low-medium',(0.05,6)),('medium',(0.04,7)),('high-medium',(0.03,8)),('high',(0.02,9))],\n",
    "    value=(0.04,7),\n",
    "    description='Peak counting sensitivity:',\n",
    "    disabled=False,\n",
    "    layout={'width':'350px'}, style={'description_width':'180px'}\n",
    ")\n",
    "\n",
    "# display and respond to the widgets\n",
    "def f(w1):\n",
    "    global pk_options\n",
    "    pk_options = sensitivity_widget.value\n",
    "    \n",
    "display(widgets.interactive(f, w1=sensitivity_widget))\n"
   ]
  },
  {
   "cell_type": "markdown",
   "metadata": {},
   "source": [
    "#### Plot peaks by region and plot peak count summary.\n"
   ]
  },
  {
   "cell_type": "code",
   "execution_count": null,
   "metadata": {
    "jupyter": {
     "source_hidden": true
    }
   },
   "outputs": [],
   "source": [
    "%matplotlib inline\n",
    "\n",
    "#global variables\n",
    "zn = np.array(zones)\n",
    "\n",
    "X0 = A0[0]\n",
    "\n",
    "sr = 6.0                            # desired sample rate\n",
    "csr = (len(X0) - 1) / (tmax-tmin)   # current sample rate\n",
    "p = int((sr / csr) * len(X0))       # new number of points\n",
    "\n",
    "##### adjustment for different data sources #####\n",
    "if (csr < 1.0):\n",
    "  filter_factor = 0.05\n",
    "  prominence_factor = 3.0\n",
    "else:\n",
    "  filter_factor = 1.0\n",
    "  prominence_factor = 1.0\n",
    "#################################################\n",
    "\n",
    "dmin = np.amin(A0[cols])\n",
    "dmax = np.amax(A0[cols])\n",
    "\n",
    "# write out the CSV file name\n",
    "f = open(resultsdir + '/' + \"csv_file.txt\", \"w\")\n",
    "f.write(data_file + '\\n')\n",
    "f.close()\n",
    "\n",
    "for f in glob.glob(resultsdir + \"/peaks_*.csv\"):\n",
    "  os.remove(f)  # delete any previous results\n",
    "\n",
    "plt.close('all')\n",
    "cts = []\n",
    "for col in cols:\n",
    "  Y0 = A0[col]\n",
    "  Y1 = (Y0-dmin) / (dmax-dmin) # data axis, normalized to range(0, 1.0)\n",
    "\n",
    "  # resample\n",
    "  f = interp1d(X0, Y1, kind='cubic')                    # define the resampling function\n",
    "  X = np.linspace(tmin, tmax, p+1, endpoint=True)       # define the new time steps\n",
    "  Y = f(X)                                              # resample the original signal\n",
    "\n",
    "  # apply high-pass filter to eliminate the stimulation \"bump\" in the data\n",
    "  sos = signal.butter(3, 0.1*filter_factor, btype='highpass', fs=sr, output='sos')\n",
    "  Yf = signal.sosfiltfilt(sos, Y) # zero phase shift filter\n",
    "\n",
    "  # apply low-pass filter to smooth out higher frequencies in the data\n",
    "  sos = signal.butter(pk_options[1], 2.0*filter_factor, btype='lowpass', fs=sr, output='sos')\n",
    "  Yf = signal.sosfiltfilt(sos, Yf) # zero phase shift filter\n",
    "\n",
    "  pks,_ = signal.find_peaks(Yf,prominence=pk_options[0]*prominence_factor)  # find indices of peaks in the resampled, filtered data\n",
    "  pidx = np.around((X0.shape[0]-1)*pks/p).astype(int) # convert to indices in the original data\n",
    "  pts = [A0[0][pidx], A0[col][pidx]]                  # save the peaks as points in the original data\n",
    "\n",
    "  c = []\n",
    "  for z in zn:\n",
    "    idx = pidx[(pidx >= np.where(A0[0] > z[0])[0][0]) & (pidx <= np.where(A0[0] < z[1])[0][-1])]\n",
    "    c.append(len(idx))\n",
    "  cts.append(c)\n",
    "\n",
    "  fig, ax = plt.subplots(ncols=1, nrows=1, figsize=(13,3), constrained_layout=True)\n",
    "  ax.set_title(\"Peaks: region \" + str(col))\n",
    "  ax.set(xlabel=\"time (s)                     peak counts: \" + str(c))\n",
    "  ax.set(ylabel=\"intensity\")\n",
    "  ax.plot(A0[0],A0[col])\n",
    "  ax.plot(A0[0,pidx],A0[col,pidx],'k.')          # plot the peak locations\n",
    "  ax.plot([zn[:,0],zn[:,0]],[dmin,dmax],color='black')\n",
    "  ax.plot([zn[:,1],zn[:,1]],[dmin,dmax],color='black')\n",
    "  ##ax.plot(X,Yf)\n",
    "  fig.savefig(resultsdir + \"/peaks_region_\" + str(col) + \".pdf\") # save figure as pdf\n",
    "  plt.show()\n",
    "  plt.close() # frees up memory\n",
    "\n",
    "  # save peak points to CSV file\n",
    "  with open (resultsdir + \"/peaks_region_\" + str(col) + \".csv\", 'w') as file:\n",
    "    writer = csv.writer(file)\n",
    "    for pk in pidx:\n",
    "      writer.writerow((A0[0,pk],A0[col,pk]))\n",
    "\n",
    "# peak count summary\n",
    "fig, ax = plt.subplots(ncols=1, nrows=1, figsize=(8,4), constrained_layout=False)\n",
    "ax.set_title(\"Peak count summary\")\n",
    "ax.set(xlabel=\"Stimulation time zone range\")\n",
    "ax.xaxis.set_major_locator(mpl.ticker.MaxNLocator(integer=True))\n",
    "x_fmt = mpl.ticker.IndexFormatter([str(z[0])+':'+str(z[1])+'s' for z in zones])\n",
    "ax.xaxis.set_major_formatter(x_fmt)\n",
    "ax.set(ylabel=\"counts\")\n",
    "ax.plot(np.transpose(cts), marker='o')\n",
    "ax.legend(cols, title='region col', fontsize=8)\n",
    "plt.xlim(-0.9,len(zones))\n",
    "plt.show()\n",
    "plt.close()\n",
    "\n",
    "# save peak count summary to CSV file\n",
    "with open (resultsdir + \"/peaks_summary.csv\", 'w') as file:\n",
    "  writer = csv.writer(file)\n",
    "  for row in np.transpose(cts):\n",
    "    writer.writerow(row)\n"
   ]
  },
  {
   "cell_type": "code",
   "execution_count": null,
   "metadata": {},
   "outputs": [],
   "source": []
  },
  {
   "cell_type": "code",
   "execution_count": null,
   "metadata": {},
   "outputs": [],
   "source": []
  },
  {
   "cell_type": "code",
   "execution_count": null,
   "metadata": {},
   "outputs": [],
   "source": []
  }
 ],
 "metadata": {
  "kernelspec": {
   "display_name": "Python 3",
   "language": "python",
   "name": "python3"
  },
  "language_info": {
   "codemirror_mode": {
    "name": "ipython",
    "version": 3
   },
   "file_extension": ".py",
   "mimetype": "text/x-python",
   "name": "python",
   "nbconvert_exporter": "python",
   "pygments_lexer": "ipython3",
   "version": "3.8.6"
  }
 },
 "nbformat": 4,
 "nbformat_minor": 4
}
