{
 "cells": [
  {
   "cell_type": "markdown",
   "metadata": {},
   "source": [
    "# Python notebook for finding peaks in csv file data.\n",
    "Assumes folder directory structure:\n",
    "<pre><code>  IMAGING\n",
    "    image_stacks\n",
    "    notebooks\n",
    "    results\n",
    "</code></pre>\n",
    "NOTE: Looks for data files and stores peaks in the results directory.<br>\n",
    "Execute the code sequentially, one block at a time, using &lt;shift-return&gt;."
   ]
  },
  {
   "cell_type": "code",
   "execution_count": null,
   "metadata": {
    "jupyter": {
     "source_hidden": true
    }
   },
   "outputs": [],
   "source": [
    "from __future__ import print_function\n",
    "import glob\n",
    "from ipywidgets import interact, Layout\n",
    "import ipywidgets as widgets\n",
    "import matplotlib.pyplot as plt\n",
    "import numpy as np\n",
    "from scipy.interpolate import interp1d\n",
    "from scipy import signal\n"
   ]
  },
  {
   "cell_type": "markdown",
   "metadata": {},
   "source": [
    "#### Select a data file and a data column.\n",
    "NOTE: Assumes file format in which the first column contains time values in seconds and subsequent columns contain intensity data."
   ]
  },
  {
   "cell_type": "code",
   "execution_count": null,
   "metadata": {
    "jupyter": {
     "source_hidden": true
    }
   },
   "outputs": [],
   "source": [
    "%matplotlib widget\n",
    "\n",
    "# global variables\n",
    "data_file = \"\"  # the selected data file\n",
    "data_col = 0    # the data column\n",
    "\n",
    "# create data files widget\n",
    "data_files = sorted([f.split('/')[-1] for f in glob.glob(\"../results/*.csv\", recursive=False)], key=str.casefold)\n",
    "data_files_widget = widgets.Select(options=data_files, description='Data file', \n",
    "                            disabled=False, layout={'width':'400px'}, style={'description_width':'100px'})\n",
    "# create data columns widget\n",
    "columns_widget = widgets.Select(options=[], description='Data column', \n",
    "                            disabled=False, layout={'width':'150px'}, style={'description_width':'100px'})\n",
    "# create status widget\n",
    "status_widget = widgets.HTML(value=' ', description=' ')\n",
    "\n",
    "# update the columns based on the data file selection\n",
    "def update_columns(*args):\n",
    "  if data_files_widget.value == None:\n",
    "    return\n",
    "  with open(\"../results/\" + data_files_widget.value, 'r', encoding='utf-8-sig') as f: \n",
    "    cols = (np.genfromtxt(f, dtype=float, delimiter=',')).shape[1]\n",
    "  columns_widget.options = range(1,cols)\n",
    "\n",
    "# widget change callbacks\n",
    "data_files_widget.observe(update_columns, 'value')\n",
    "\n",
    "# display and respond to the widgets\n",
    "update_columns()\n",
    "def f(w1, w2, w3):\n",
    "  global data_file, data_col\n",
    "  data_file = data_files_widget.value\n",
    "  data_col = columns_widget.value\n",
    "\n",
    "  if not data_file:\n",
    "    status_widget.value = \"No data file selected.\"\n",
    "  else:\n",
    "    if not data_col:\n",
    "      status_widget.value = \"No data column selected.\"\n",
    "    else:\n",
    "      status_widget.value = \"Selection OK.\"\n",
    "display(widgets.interactive(f, w1=data_files_widget, w2=columns_widget, w3=status_widget))\n"
   ]
  },
  {
   "cell_type": "markdown",
   "metadata": {},
   "source": [
    "#### Peak counting over selected time range.\n",
    "Use the interactive sliders to set the start and finish times."
   ]
  },
  {
   "cell_type": "code",
   "execution_count": null,
   "metadata": {
    "jupyter": {
     "source_hidden": true
    }
   },
   "outputs": [],
   "source": [
    "#global variables\n",
    "istart = 0\n",
    "idone = 0\n",
    "idx = []\n",
    "\n",
    "with open(\"../results/\" + data_file, 'r', encoding='utf-8-sig') as f: \n",
    "  A0 = np.transpose(np.genfromtxt(f, dtype=float, delimiter=','))\n",
    "wtmax = np.ceil(A0[0,-1])\n",
    "dmin = np.amin(A0[data_col])\n",
    "dmax = np.amax(A0[data_col])\n",
    "count_start = 0.0   # count start time\n",
    "count_done = wtmax  # count end time\n",
    "p = 4000            # desired length of resampled data\n",
    "\n",
    "X0 = A0[0]\n",
    "Y0 = A0[data_col]\n",
    "tmin = np.min(X0)            # start time\n",
    "tmax = np.max(X0)            # finish time\n",
    "Y1 = (Y0-dmin) / (dmax-dmin) # data axis, normalized to range(0, 1.0)\n",
    "sr = p / (tmax-tmin)         # the sample rate\n",
    "\n",
    "# resample\n",
    "f = interp1d(X0, Y1, kind='cubic')                    # define the resampling function\n",
    "X = np.linspace(tmin, tmax, p+1, endpoint=True)       # define the new time steps\n",
    "Y = f(X)                                              # resample the original signal\n",
    "\n",
    "# apply high-pass filter to eliminate the stimulation \"bump\" in the data\n",
    "sos = signal.butter(3, 0.1, btype='highpass', fs=sr, output='sos')\n",
    "Yf = signal.sosfiltfilt(sos, Y) # zero phase shift filter\n",
    "\n",
    "# apply low-pass filter to smooth out higher frequencies in the data\n",
    "sos = signal.butter(7, 2.0, btype='lowpass', fs=sr, output='sos')\n",
    "Yf = signal.sosfiltfilt(sos, Yf) # zero phase shift filter\n",
    "\n",
    "pks,_ = signal.find_peaks(Yf,prominence=0.04)       # find indices of peaks in the resampled, filtered data\n",
    "pidx = np.around((X0.shape[0]-1)*pks/p).astype(int) # convert to indices in the original data\n",
    "pts = [A0[0][pidx], A0[data_col][pidx]]             # save the peaks as points in the original data\n",
    "\n",
    "plt.close('all')\n",
    "fig, ax = plt.subplots(ncols=1, nrows=2, figsize=(12,6), constrained_layout=True)\n",
    "\n",
    "@interact(\n",
    "  cs = widgets.FloatSlider(value=count_start, min=0.0, max=wtmax-1.0, step=1.0,\n",
    "                    description='start time', layout=Layout(width='700px')),\n",
    "  cd = widgets.FloatSlider(value=count_done, min=1.0, max=wtmax, step=1.0,\n",
    "                    description='finish time', layout=Layout(width='700px'))\n",
    ")\n",
    "\n",
    "def f(cs,cd):\n",
    "  global istart, idone, idx\n",
    "  istart = np.where(A0[0] > cs)[0][0]\n",
    "  idone = np.where(A0[0] < cd)[0][-1]\n",
    "\n",
    "  ax[0].cla()\n",
    "  ax[0].set_title(\"Time range selection\")\n",
    "  ax[0].set(ylabel=\"intensity\")\n",
    "  ax[0].set(xlabel=\"time (s)\")\n",
    "  ax[0].plot(A0[0],A0[data_col])\n",
    "  ax[0].plot([cs,cs],[dmin,dmax],color='green')\n",
    "  ax[0].plot([cd,cd],[dmin,dmax],color='red')\n",
    "\n",
    "  ax[1].cla()\n",
    "  ax[1].set_title(\"Peaks in time range\")\n",
    "  ax[1].set(ylabel=\"intensity\")\n",
    "  ax[1].set(xlabel=\"time (s)\")\n",
    "\n",
    "  idx = pidx[(pidx >= istart) & (pidx <= idone)]\n",
    "  ax[1].plot(A0[0,istart:idone],A0[data_col,istart:idone])\n",
    "  ax[1].plot(A0[0,idx],A0[data_col,idx],'k.')                                # plot the peak locations\n",
    "    \n",
    "  plt.show()\n",
    "  return(\"peaks count: \" + str(len(idx)))"
   ]
  },
  {
   "cell_type": "markdown",
   "metadata": {},
   "source": [
    "#### Save peaks to file."
   ]
  },
  {
   "cell_type": "code",
   "execution_count": null,
   "metadata": {
    "jupyter": {
     "source_hidden": true
    }
   },
   "outputs": [],
   "source": [
    "import csv\n",
    "\n",
    "# save peaks to CSV file\n",
    "with open (\"../results/peaks.csv\", 'w') as file:\n",
    "  writer = csv.writer(file)\n",
    "  for row in np.transpose(A0[:,idx]):\n",
    "    writer.writerow([row[0], row[data_col]])\n"
   ]
  },
  {
   "cell_type": "code",
   "execution_count": null,
   "metadata": {},
   "outputs": [],
   "source": []
  }
 ],
 "metadata": {
  "kernelspec": {
   "display_name": "Python 3",
   "language": "python",
   "name": "python3"
  },
  "language_info": {
   "codemirror_mode": {
    "name": "ipython",
    "version": 3
   },
   "file_extension": ".py",
   "mimetype": "text/x-python",
   "name": "python",
   "nbconvert_exporter": "python",
   "pygments_lexer": "ipython3",
   "version": "3.8.6"
  }
 },
 "nbformat": 4,
 "nbformat_minor": 4
}
