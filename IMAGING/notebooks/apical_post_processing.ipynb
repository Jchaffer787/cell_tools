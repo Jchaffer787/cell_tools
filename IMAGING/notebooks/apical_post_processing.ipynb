{
 "cells": [
  {
   "cell_type": "markdown",
   "metadata": {},
   "source": [
    "# Python notebook for post-processing apical responses.\n",
    "# Create image stack movie with regions plot.\n",
    "# --- UNDER DEVELOPMENT ---\n",
    "Assumes folder directory structure:\n",
    "<pre><code>  IMAGING\n",
    "    image_stacks\n",
    "    notebooks\n",
    "    results\n",
    "</code></pre>\n",
    "Execute the code sequentially, one block at a time, using &lt;shift-return&gt;."
   ]
  },
  {
   "cell_type": "code",
   "execution_count": 5,
   "metadata": {},
   "outputs": [],
   "source": [
    "%matplotlib widget\n",
    "\n",
    "import glob\n",
    "import ipywidgets as widgets\n",
    "import numpy as np\n",
    "import matplotlib as mpl\n",
    "import matplotlib.pyplot as plt\n",
    "from matplotlib.animation import FuncAnimation\n",
    "import os\n",
    "from skimage import io\n",
    "\n"
   ]
  },
  {
   "cell_type": "markdown",
   "metadata": {},
   "source": [
    "#### User editable lookup table for image plot colors.\n",
    "For a list of predefied colormaps refer to:\n",
    "https://matplotlib.org/3.1.1/gallery/color/colormap_reference.html \\\n",
    "To create your own custom colormap refer to:\n",
    "https://matplotlib.org/3.1.0/tutorials/colors/colormap-manipulation.html\n"
   ]
  },
  {
   "cell_type": "code",
   "execution_count": 6,
   "metadata": {},
   "outputs": [],
   "source": [
    "# look up table for image plot color\n",
    "#   e.g. coolwarm, jet, plasma, gray\n",
    "lut = mpl.cm.gray\n"
   ]
  },
  {
   "cell_type": "code",
   "execution_count": 7,
   "metadata": {},
   "outputs": [
    {
     "data": {
      "application/vnd.jupyter.widget-view+json": {
       "model_id": "6e4cdeed4d6747f9a9d633474bc638ed",
       "version_major": 2,
       "version_minor": 0
      },
      "text/plain": [
       "interactive(children=(Select(description='Image stack:', layout=Layout(width='400px'), options=('lessmovement3…"
      ]
     },
     "metadata": {},
     "output_type": "display_data"
    }
   ],
   "source": [
    "# global variables\n",
    "image_sel = \"\"\n",
    "results_sel = \"\"\n",
    "regions_sel = []\n",
    "\n",
    "# create image files widget\n",
    "image_files = sorted([f.split('/')[-1] for f in glob.glob(\"../image_stacks/*.tif\", recursive=False)], key=str.casefold)\n",
    "image_widget = widgets.Select(options=image_files, description='Image stack:', \n",
    "                            disabled=False, layout=widgets.Layout(width='400px'))\n",
    "\n",
    "# create results directory widget\n",
    "result_dirs = sorted([f.split('/')[-2] for f in glob.glob(\"../results/*/\", recursive=False)], key=str.casefold)\n",
    "results_widget = widgets.Select(options=result_dirs, description='Results dir:', \n",
    "                            disabled=False, layout=widgets.Layout(width='400px'))\n",
    "\n",
    "# create regions widget\n",
    "regions_widget = widgets.SelectMultiple(options=[], description='Regions:', \n",
    "                            disabled=False, layout=widgets.Layout(width='150px'))\n",
    "\n",
    "# update the regions based on the results directory selection\n",
    "def update_regions(*args):\n",
    "  region_files = os.listdir(\"../results/\" + results_widget.value)\n",
    "  region_files = [f for f in region_files if 'apical_region' in f and '.csv' in f][:-1]\n",
    "  regions = [f.split('-')[0].split('_')[-1] for f in region_files]\n",
    "  regions = sorted([int(r) for r in regions])\n",
    "  regions_widget.options = regions\n",
    "\n",
    "# results directory change callback\n",
    "results_widget.observe(update_regions, 'value')\n",
    "\n",
    "# display and respond to the widgets\n",
    "def f(w1, w2, w3):\n",
    "  global image_sel, results_sel, regions_sel\n",
    "  image_sel = image_widget.value\n",
    "  results_sel = results_widget.value\n",
    "  regions_sel = list(regions_widget.value)\n",
    "display(widgets.interactive(f, w1=image_widget, w2=results_widget, w3=regions_widget))"
   ]
  },
  {
   "cell_type": "code",
   "execution_count": 4,
   "metadata": {},
   "outputs": [
    {
     "name": "stdout",
     "output_type": "stream",
     "text": [
      "Mistgcamp-3_0003.tif\n",
      "Mistgcamp-320200527-212243\n",
      "[1, 3]\n"
     ]
    }
   ],
   "source": [
    "print(image_sel)\n",
    "print(results_sel)\n",
    "print(regions_sel)"
   ]
  },
  {
   "cell_type": "code",
   "execution_count": null,
   "metadata": {},
   "outputs": [],
   "source": []
  },
  {
   "cell_type": "code",
   "execution_count": null,
   "metadata": {},
   "outputs": [],
   "source": []
  },
  {
   "cell_type": "code",
   "execution_count": 3,
   "metadata": {},
   "outputs": [],
   "source": [
    "backend = mpl.get_backend()\n",
    "mpl.use(\"Agg\")  # don't display the animation\n",
    "\n",
    "image_file = \"../image_stacks/Mistgcamp-3_0002.tif\"\n",
    "image_bits = 10\n",
    "A0 = io.imread(image_file)\n",
    "A = np.float32(A0/(2.0**image_bits))\n",
    "\n",
    "data_file = \"../results/Mistgcamp-320200527-212243/apical_region_2-mask5Hz-stimALL.csv\"\n",
    "data_ind = 3  # the data index to animate\n",
    "D = np.genfromtxt(data_file, delimiter=',')\n",
    "\n",
    "widths = [1]\n",
    "heights = [1, 0.2]\n",
    "gs_kw = dict(width_ratios=widths, height_ratios=heights)\n",
    "fig,ax = plt.subplots(nrows=2, ncols=1, \n",
    "                      constrained_layout=True, gridspec_kw=gs_kw,\n",
    "                      figsize = [6, 8], dpi=100)\n",
    "# adjust_subplots???\n",
    "ax[0].set_xticks([])\n",
    "ax[0].set_yticks([])\n",
    "im = ax[0].imshow(A[0], norm=None, cmap=lut)\n",
    "ax[1].set_xlim(0,10.0*np.ceil(np.amax(D[:,0]/10.0)))\n",
    "ax[1].set_ylim(0,100.0*np.ceil(np.amax(D[:,data_ind+1]/100.0)))\n",
    "X = []\n",
    "Y = []\n",
    "line, = ax[1].plot(D[0,0], D[0,data_ind])\n",
    "\n",
    "def animation_frame(i):\n",
    "  X.append(D[i,0])\n",
    "  Y.append(D[i,data_ind])\n",
    "  line.set_xdata(X)\n",
    "  line.set_ydata(Y)\n",
    "  im.set_data(A[i])\n",
    "  return\n",
    "\n",
    "animation = FuncAnimation(fig, animation_frame, blit=False, repeat=False,\n",
    "                          frames=D.shape[0], interval=np.int(1000.0*D[1,0]))\n",
    "animation.save(\"../image_stacks/tempB.mp4\")\n",
    "mpl.use(backend)"
   ]
  },
  {
   "cell_type": "code",
   "execution_count": null,
   "metadata": {},
   "outputs": [],
   "source": []
  },
  {
   "cell_type": "code",
   "execution_count": null,
   "metadata": {},
   "outputs": [],
   "source": []
  }
 ],
 "metadata": {
  "kernelspec": {
   "display_name": "Python 3",
   "language": "python",
   "name": "python3"
  },
  "language_info": {
   "codemirror_mode": {
    "name": "ipython",
    "version": 3
   },
   "file_extension": ".py",
   "mimetype": "text/x-python",
   "name": "python",
   "nbconvert_exporter": "python",
   "pygments_lexer": "ipython3",
   "version": "3.7.7"
  }
 },
 "nbformat": 4,
 "nbformat_minor": 4
}
