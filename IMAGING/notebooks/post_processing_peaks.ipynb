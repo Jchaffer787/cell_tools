{
 "cells": [
  {
   "cell_type": "markdown",
   "metadata": {},
   "source": [
    "# Python notebook for post-processing ROI responses.\n",
    "# Peak counting in the results data.\n",
    "Assumes folder directory structure:\n",
    "<pre><code>  IMAGING\n",
    "    image_stacks\n",
    "    notebooks\n",
    "    results\n",
    "</code></pre>\n",
    "Execute the code sequentially, one block at a time, using &lt;shift-return&gt;."
   ]
  },
  {
   "cell_type": "code",
   "execution_count": null,
   "metadata": {
    "jupyter": {
     "source_hidden": true
    }
   },
   "outputs": [],
   "source": [
    "import csv\n",
    "import glob\n",
    "import ipywidgets as widgets\n",
    "import numpy as np\n",
    "import matplotlib.pyplot as plt\n",
    "import os\n",
    "from scipy.interpolate import interp1d\n",
    "from scipy.io.wavfile import write\n",
    "from scipy import signal\n",
    "\n",
    "# global variables\n",
    "if os.name == \"nt\":\n",
    "    FILE_SEP = \"\\\\\"\n",
    "else:\n",
    "    FILE_SEP = \"/\"\n"
   ]
  },
  {
   "cell_type": "markdown",
   "metadata": {},
   "source": [
    "#### Select a results directory and set analysis frame range.\n"
   ]
  },
  {
   "cell_type": "code",
   "execution_count": null,
   "metadata": {
    "jupyter": {
     "source_hidden": true
    }
   },
   "outputs": [],
   "source": [
    "%matplotlib widget\n",
    "\n",
    "# global variables\n",
    "results_sel = \"\"  # the selected results directory\n",
    "stim_start = 100  # analysis start frame\n",
    "stim_done = 250   # analysis end frame\n",
    "\n",
    "s = {'description_width':'200px'} # a default widget style\n",
    "\n",
    "# create results directory widget\n",
    "result_dirs = sorted([f.split(FILE_SEP)[-2] for f in glob.glob(\"../results/*/\", recursive=False)], key=str.casefold)\n",
    "results_widget = widgets.Select(options=result_dirs, description='Results dir', \n",
    "                            disabled=False, layout=widgets.Layout(width='400px'))\n",
    "# create numeric input widgets\n",
    "stim_start_widget = widgets.BoundedIntText(value=stim_start, min=0, max=1000, step=1,\n",
    "                    description='Stimulation start frame', disabled=False, layout={'width':'270px'}, style=s)\n",
    "stim_done_widget = widgets.BoundedIntText(value=stim_done, min=0, max=1000, step=1,\n",
    "                    description='Stimulation done frame', disabled=False, layout={'width':'270px'}, style=s)\n",
    "\n",
    "# create status widget\n",
    "status_widget = widgets.HTML(value=' ', description=' ')\n",
    "\n",
    "# display and respond to the widgets\n",
    "def f(w1, w2, w3, w4):\n",
    "  global results_sel\n",
    "  global stim_start, stim_done\n",
    "  results_sel = results_widget.value\n",
    "  stim_start = stim_start_widget.value\n",
    "  stim_done = stim_done_widget.value\n",
    "\n",
    "  if not results_sel:\n",
    "    status_widget.value = \"No result directory selected.\"\n",
    "  else:\n",
    "    status_widget.value = \"Selection OK.\"\n",
    "display(widgets.interactive(f, w1=results_widget, w2=status_widget,\n",
    "                           w3=stim_start_widget, w4=stim_done_widget))"
   ]
  },
  {
   "cell_type": "markdown",
   "metadata": {},
   "source": [
    "#### Peak counting over all regions."
   ]
  },
  {
   "cell_type": "code",
   "execution_count": null,
   "metadata": {
    "jupyter": {
     "source_hidden": true
    }
   },
   "outputs": [],
   "source": [
    "%matplotlib inline\n",
    "\n",
    "# get the regions and data labels in the selected results directory \n",
    "region_files = os.listdir(\"../results/\" + results_widget.value)\n",
    "region_files = sorted([f for f in region_files if 'region' in f and '.csv' in f])\n",
    "with open(\"../results/\" + results_widget.value + \"/labels.txt\") as f:\n",
    "  data_labels = f.readlines()\n",
    "data_labels = [x.strip() for x in data_labels] \n",
    "\n",
    "p = 2000                   # desired length of resampled data\n",
    "pkall = []                 # the number of peaks across all regions\n",
    "for r in region_files:     # for each region\n",
    "  fig, ax = plt.subplots(nrows=1, ncols=1, figsize = [15,4])\n",
    "  ax.grid(b=True)\n",
    "\n",
    "  region = r.split('_')[-1].split('-')[0]  # get the region number\n",
    "  A0 = np.transpose(np.genfromtxt(\"../results/\" + results_sel + \"/\" + r, delimiter=','))\n",
    "  A = A0[:,stim_start:stim_done]  # trim the data to the stimulated time\n",
    "  tmin = np.min(A[0])      # start time\n",
    "  tmax = np.max(A[0])      # finish time\n",
    "  trng = tmax-tmin         # time range\n",
    "  tstp = A0[0,1]-A0[0,0]   # time step\n",
    "  dmin = np.min(A[1:])     # minimum data value (over all traces)\n",
    "  dmax = np.max(A[1:])     # maximum data value\n",
    "  drng = dmax-dmin         # data range\n",
    "  X0 = A[0]                # the time axis\n",
    "  Y0 = (A[1:]-dmin) / drng # data axis, normalized to range(0, 1.0)\n",
    "\n",
    "  sr = p / trng   # the sample rate\n",
    "  pk = []\n",
    "  pts = []\n",
    "  for idx,y in enumerate(Y0): # for each trace\n",
    "    f = interp1d(X0, y, kind='cubic')                     # define the resampling function\n",
    "    X = np.linspace(tmin, tmax, p+1, endpoint=True)       # define the new time steps\n",
    "    Y = f(X)                                              # resample the original signal\n",
    "\n",
    "    # apply high-pass filter to eliminate the stimulation \"bump\" in the data\n",
    "    sos = signal.butter(3, 0.1, btype='highpass', fs=sr, output='sos')\n",
    "    Yf = signal.sosfiltfilt(sos, Y) # zero phase shift filter\n",
    "\n",
    "    # apply low-pass filter to smooth out higher frequencies in the data\n",
    "    sos = signal.butter(7, 2.0, btype='lowpass', fs=sr, output='sos')\n",
    "    Yf = signal.sosfiltfilt(sos, Yf) # zero phase shift filter\n",
    "\n",
    "    pks,_ = signal.find_peaks(Yf,prominence=0.04)         # find indices of peaks in the resampled, filtered data\n",
    "    pk.append(len(pks))                                   # save the number of peaks\n",
    "    pidx = np.around(stim_start + (stim_done-stim_start-1)*pks/p).astype(int)  # convert to indices in the original data\n",
    "    pts.append([A0[0][pidx], A0[idx+1][pidx]])            # save the peaks as points in the original data\n",
    "    ax.plot(A0[0],A0[idx+1],label=str(data_labels[idx]))        # plot the original data\n",
    "    ax.plot(pts[-1][0],pts[-1][1],'k.')                         # plot the peak locations\n",
    "    \n",
    "  pkall.append(pk) # append the number of peaks for this region to the overall list\n",
    "  ax.legend()\n",
    "  ax.set_title(\" amplitude peaks - region \" + region)\n",
    "  ax.set(xlabel=\"time (s)                     peak counts: \" + str(pk))\n",
    "  ax.set(ylabel=\"%F/F0\")\n",
    "\n",
    "  # save figure to pdf\n",
    "  fig.savefig(\"../results/\" + results_widget.value +'/' + \"peaks\" + \"_region_\" + region + \".pdf\")\n",
    "  plt.show()\n",
    "  plt.close() # frees up memory\n",
    "\n",
    "  # save peak point locations to CSV file\n",
    "  with open (\"../results/\" + results_widget.value +'/' + \"peaks\" + \"_region_\" + region + \".csv\", 'w') as file:\n",
    "    writer = csv.writer(file)\n",
    "    for trace in pts:                                      # for each trace...\n",
    "      for pt in np.transpose(np.array(trace)):             #   for each point...\n",
    "        writer.writerow('{:.2f}'.format(x) for x in pt)    #     save the point (time and intensity)\n",
    "\n",
    "# save peak counts to CSV file\n",
    "with open (\"../results/\" + results_widget.value +'/' + \"peaks_counts_ALL.csv\", 'w') as file:\n",
    "  writer = csv.writer(file)\n",
    "  for row in pkall:\n",
    "    writer.writerow(row)\n",
    "\n"
   ]
  },
  {
   "cell_type": "code",
   "execution_count": null,
   "metadata": {},
   "outputs": [],
   "source": []
  },
  {
   "cell_type": "code",
   "execution_count": null,
   "metadata": {},
   "outputs": [],
   "source": []
  }
 ],
 "metadata": {
  "kernelspec": {
   "display_name": "Python 3",
   "language": "python",
   "name": "python3"
  },
  "language_info": {
   "codemirror_mode": {
    "name": "ipython",
    "version": 3
   },
   "file_extension": ".py",
   "mimetype": "text/x-python",
   "name": "python",
   "nbconvert_exporter": "python",
   "pygments_lexer": "ipython3",
   "version": "3.8.6"
  }
 },
 "nbformat": 4,
 "nbformat_minor": 4
}
