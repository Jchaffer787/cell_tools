{
 "cells": [
  {
   "cell_type": "markdown",
   "metadata": {},
   "source": [
    "# Python notebook for post-processing apical responses.\n",
    "# Movie and Regions Plot\n",
    "Assumes folder directory structure:\n",
    "<pre><code>  IMAGING\n",
    "    image_stacks\n",
    "    notebooks\n",
    "    results\n",
    "</code></pre>\n",
    "Execute the code sequentially, one block at a time, using &lt;shift-return&gt;."
   ]
  },
  {
   "cell_type": "code",
   "execution_count": 12,
   "metadata": {},
   "outputs": [],
   "source": [
    "%matplotlib widget\n",
    "\n",
    "import copy\n",
    "import numpy as np\n",
    "from numpy import genfromtxt\n",
    "import matplotlib.pyplot as plt\n",
    "from matplotlib.animation import FuncAnimation\n",
    "from matplotlib import gridspec\n",
    "import os\n",
    "from skimage import io\n",
    "\n",
    "import matplotlib as mpl\n",
    "import ipywidgets as widgets\n",
    "from ipyfilechooser import FileChooser\n"
   ]
  },
  {
   "cell_type": "code",
   "execution_count": 4,
   "metadata": {},
   "outputs": [
    {
     "data": {
      "application/vnd.jupyter.widget-view+json": {
       "model_id": "e56f84ea0ebf414886dae3b2e00e88d7",
       "version_major": 2,
       "version_minor": 0
      },
      "text/plain": [
       "FileChooser(path='../image_stacks', filename='', show_hidden='False')"
      ]
     },
     "metadata": {},
     "output_type": "display_data"
    }
   ],
   "source": [
    "# Create and display a FileChooser widget\n",
    "sc = FileChooser(\"../image_stacks\")\n",
    "sc.title = \"Select an image stack.\"\n",
    "display(sc)"
   ]
  },
  {
   "cell_type": "code",
   "execution_count": 6,
   "metadata": {},
   "outputs": [
    {
     "data": {
      "application/vnd.jupyter.widget-view+json": {
       "model_id": "70507e8fe26c4ab6a7c6a9606c9f96ce",
       "version_major": 2,
       "version_minor": 0
      },
      "text/plain": [
       "FileChooser(path='../results', filename='', show_hidden='False')"
      ]
     },
     "metadata": {},
     "output_type": "display_data"
    }
   ],
   "source": [
    "# Create and display a FileChooser widget\n",
    "rc = FileChooser(\"../results\")\n",
    "rc.title = \"Select a results folder.\"\n",
    "display(rc)"
   ]
  },
  {
   "cell_type": "code",
   "execution_count": 64,
   "metadata": {},
   "outputs": [
    {
     "name": "stdout",
     "output_type": "stream",
     "text": [
      "[1, 2, 3, 4, 5, 6, 7, 8, 9, 10, 11, 12, 13, 14, 15, 16, 17, 18]\n"
     ]
    }
   ],
   "source": [
    "files = os.listdir(rc.selected)\n",
    "files = [f for f in files if 'apical_region' in f and '.csv' in f]\n",
    "regions = [f.split('-')[0].split('_')[-1] for f in files][:-1]\n",
    "regions = [int(r) for r in regions]\n",
    "reg = copy.deepcopy(regions)\n",
    "reg.sort()\n",
    "print(reg)\n"
   ]
  },
  {
   "cell_type": "code",
   "execution_count": null,
   "metadata": {},
   "outputs": [],
   "source": []
  },
  {
   "cell_type": "code",
   "execution_count": null,
   "metadata": {},
   "outputs": [],
   "source": [
    "image_file = sc.selected\n",
    "\n",
    "backend = mpl.get_backend()\n",
    "mpl.use(\"Agg\")  # don't display the animation\n",
    "\n",
    "#image_file = \"../image_stacks/Mistgcamp-3_0002.tif\"\n",
    "image_bits = 10\n",
    "A0 = io.imread(image_file)\n",
    "A = np.float32(A0/(2.0**image_bits))\n",
    "\n",
    "data_file = \"../results/Mistgcamp-320200527-212243/apical_region_2-mask5Hz-stimALL.csv\"\n",
    "data_ind = 3  # the data index to animate\n",
    "D = genfromtxt(data_file, delimiter=',')\n",
    "\n",
    "widths = [1]\n",
    "heights = [1, 0.2]\n",
    "gs_kw = dict(width_ratios=widths, height_ratios=heights)\n",
    "fig,ax = plt.subplots(nrows=2, ncols=1, \n",
    "                      constrained_layout=True, gridspec_kw=gs_kw,\n",
    "                      figsize = [6, 8], dpi=100)\n",
    "#adjust_subplots\n",
    "ax[0].set_xticks([])\n",
    "ax[0].set_yticks([])\n",
    "im = ax[0].imshow(A[0], norm=None, cmap=mpl.cm.gray)\n",
    "ax[1].set_xlim(0,10.0*np.ceil(np.amax(D[:,0]/10.0)))\n",
    "ax[1].set_ylim(0,100.0*np.ceil(np.amax(D[:,data_ind+1]/100.0)))\n",
    "X1 = []\n",
    "Y1 = []\n",
    "region1, = ax[1].plot(D[0,0], D[0,data_ind])\n",
    "X2 = []\n",
    "Y2 = []\n",
    "region2, = ax[1].plot(D[0,0], D[0,data_ind+1])\n",
    "\n",
    "def animation_frame(i):\n",
    "  X1.append(D[i,0])\n",
    "  Y1.append(D[i,data_ind])\n",
    "  region1.set_xdata(X1)\n",
    "  region1.set_ydata(Y1)\n",
    "  X2.append(D[i,0])\n",
    "  Y2.append(D[i,data_ind+1])\n",
    "  region2.set_xdata(X2)\n",
    "  region2.set_ydata(Y2)\n",
    "  im.set_data(A[i])\n",
    "  return\n",
    "\n",
    "animation = FuncAnimation(fig, animation_frame, blit=False, repeat=False,\n",
    "                          frames=D.shape[0], interval=np.int(1000.0*D[1,0]))\n",
    "animation.save(\"../image_stacks/tempB.mp4\")\n",
    "mpl.use(backend)"
   ]
  },
  {
   "cell_type": "code",
   "execution_count": null,
   "metadata": {},
   "outputs": [],
   "source": [
    "print(data_array)\n"
   ]
  },
  {
   "cell_type": "code",
   "execution_count": null,
   "metadata": {},
   "outputs": [],
   "source": []
  },
  {
   "cell_type": "code",
   "execution_count": null,
   "metadata": {},
   "outputs": [],
   "source": [
    "from IPython.display import display\n",
    "w = widgets.IntSlider()\n",
    "display(w)"
   ]
  }
 ],
 "metadata": {
  "kernelspec": {
   "display_name": "Python 3",
   "language": "python",
   "name": "python3"
  },
  "language_info": {
   "codemirror_mode": {
    "name": "ipython",
    "version": 3
   },
   "file_extension": ".py",
   "mimetype": "text/x-python",
   "name": "python",
   "nbconvert_exporter": "python",
   "pygments_lexer": "ipython3",
   "version": "3.7.7"
  }
 },
 "nbformat": 4,
 "nbformat_minor": 4
}
