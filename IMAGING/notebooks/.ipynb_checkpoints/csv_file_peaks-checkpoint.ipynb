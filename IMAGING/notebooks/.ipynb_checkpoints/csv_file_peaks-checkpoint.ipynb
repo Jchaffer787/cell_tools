{
 "cells": [
  {
   "cell_type": "markdown",
   "metadata": {},
   "source": [
    "# Python notebook for finding peaks in csv file data.\n",
    "Assumes folder directory structure:\n",
    "<pre><code>  IMAGING\n",
    "    image_stacks\n",
    "    notebooks\n",
    "    results\n",
    "</code></pre>\n",
    "NOTE: Looks for data files and stores peaks in the results directory.<br>\n",
    "Execute the code sequentially, one block at a time, using &lt;shift-return&gt;."
   ]
  },
  {
   "cell_type": "code",
   "execution_count": 115,
   "metadata": {},
   "outputs": [],
   "source": [
    "from __future__ import print_function\n",
    "import glob\n",
    "from ipywidgets import interact, Layout\n",
    "import ipywidgets as widgets\n",
    "import matplotlib as mpl\n",
    "import matplotlib.pyplot as plt\n",
    "import numpy as np\n",
    "from scipy.interpolate import interp1d\n",
    "from scipy import signal\n"
   ]
  },
  {
   "cell_type": "markdown",
   "metadata": {},
   "source": [
    "#### Select a data file and a data column.\n",
    "NOTE: Assumes file format in which the first column contains time values in seconds and subsequent columns contain intensity data."
   ]
  },
  {
   "cell_type": "code",
   "execution_count": 60,
   "metadata": {
    "jupyter": {
     "source_hidden": true
    }
   },
   "outputs": [
    {
     "data": {
      "application/vnd.jupyter.widget-view+json": {
       "model_id": "d3943807572b40f48a44e644a1bf07a3",
       "version_major": 2,
       "version_minor": 0
      },
      "text/plain": [
       "interactive(children=(Select(description='Data file', layout=Layout(width='400px'), options=('gCAMP Template-E…"
      ]
     },
     "metadata": {},
     "output_type": "display_data"
    }
   ],
   "source": [
    "%matplotlib widget\n",
    "\n",
    "# global variables\n",
    "data_file = \"\"  # the selected data file\n",
    "data_cols = []  # the data columns\n",
    "\n",
    "# create data files widget\n",
    "data_files = sorted([f.split('/')[-1] for f in glob.glob(\"../results/*.csv\", recursive=False)], key=str.casefold)\n",
    "data_files_widget = widgets.Select(options=data_files, description='Data file', \n",
    "                            disabled=False, layout={'width':'400px'}, style={'description_width':'100px'})\n",
    "# create data columns widget\n",
    "columns_widget = widgets.SelectMultiple(options=[], description='Data column', \n",
    "                            disabled=False, layout={'width':'150px'}, style={'description_width':'100px'})\n",
    "# create status widget\n",
    "status_widget = widgets.HTML(value=' ', description=' ')\n",
    "\n",
    "# update the columns based on the data file selection\n",
    "def update_columns(*args):\n",
    "  if data_files_widget.value == None:\n",
    "    return\n",
    "  with open(\"../results/\" + data_files_widget.value, 'r', encoding='utf-8-sig') as f: \n",
    "    cols = (np.genfromtxt(f, dtype=float, delimiter=',')).shape[1]\n",
    "  columns_widget.options = range(1,cols)\n",
    "\n",
    "# widget change callbacks\n",
    "data_files_widget.observe(update_columns, 'value')\n",
    "\n",
    "# display and respond to the widgets\n",
    "update_columns()\n",
    "def f(w1, w2, w3):\n",
    "  global data_file, data_cols\n",
    "  data_file = data_files_widget.value\n",
    "  data_cols = columns_widget.value\n",
    "\n",
    "  if not data_file:\n",
    "    status_widget.value = \"No data file selected.\"\n",
    "  else:\n",
    "    if not data_cols:\n",
    "      status_widget.value = \"No data column selected.\"\n",
    "    else:\n",
    "      status_widget.value = \"Selection OK.\"\n",
    "display(widgets.interactive(f, w1=data_files_widget, w2=columns_widget, w3=status_widget))\n"
   ]
  },
  {
   "cell_type": "code",
   "execution_count": null,
   "metadata": {},
   "outputs": [],
   "source": []
  },
  {
   "cell_type": "code",
   "execution_count": 88,
   "metadata": {},
   "outputs": [
    {
     "data": {
      "application/vnd.jupyter.widget-view+json": {
       "model_id": "91df09a61f934ecfbcc1d4b148880c58",
       "version_major": 2,
       "version_minor": 0
      },
      "text/plain": [
       "Canvas(toolbar=Toolbar(toolitems=[('Home', 'Reset original view', 'home', 'home'), ('Back', 'Back to previous …"
      ]
     },
     "metadata": {},
     "output_type": "display_data"
    }
   ],
   "source": [
    "#global variables\n",
    "istart = [0,0,0,0, 0]\n",
    "cols = np.array(data_cols)\n",
    "cs = [0, 150, 320, 500, 700]\n",
    "\n",
    "for idx, n in enumerate(cs):\n",
    "  istart[idx] = np.where(A0[0] > n)[0][0]\n",
    "\n",
    "with open(\"../results/\" + data_file, 'r', encoding='utf-8-sig') as f: \n",
    "  A0 = np.transpose(np.genfromtxt(f, dtype=float, delimiter=','))\n",
    "wtmax = np.ceil(A0[0,-1])\n",
    "dmin = np.amin(A0[cols])\n",
    "dmax = np.amax(A0[cols])\n",
    "\n",
    "plt.close('all')\n",
    "fig, ax = plt.subplots(ncols=1, nrows=1, figsize=(12,3), constrained_layout=True)\n",
    "ax.set_title(\"Stimulation time range selection\")\n",
    "ax.set(ylabel=\"intensity\")\n",
    "ax.set(xlabel=\"time (s)\")\n",
    "ax.plot(A0[0],np.transpose(A0[cols]))\n",
    "ax.plot([cs,cs],[dmin,dmax],color='green')\n",
    "plt.show()\n"
   ]
  },
  {
   "cell_type": "code",
   "execution_count": 126,
   "metadata": {},
   "outputs": [
    {
     "data": {
      "application/vnd.jupyter.widget-view+json": {
       "model_id": "373066d682d2428f95478c616af0ce82",
       "version_major": 2,
       "version_minor": 0
      },
      "text/plain": [
       "Canvas(toolbar=Toolbar(toolitems=[('Home', 'Reset original view', 'home', 'home'), ('Back', 'Back to previous …"
      ]
     },
     "metadata": {},
     "output_type": "display_data"
    },
    {
     "data": {
      "application/vnd.jupyter.widget-view+json": {
       "model_id": "da218b50123b4184a7ff8d845c6e2072",
       "version_major": 2,
       "version_minor": 0
      },
      "text/plain": [
       "Canvas(toolbar=Toolbar(toolitems=[('Home', 'Reset original view', 'home', 'home'), ('Back', 'Back to previous …"
      ]
     },
     "metadata": {},
     "output_type": "display_data"
    },
    {
     "data": {
      "application/vnd.jupyter.widget-view+json": {
       "model_id": "21946820866440cfada070d81b0be605",
       "version_major": 2,
       "version_minor": 0
      },
      "text/plain": [
       "Canvas(toolbar=Toolbar(toolitems=[('Home', 'Reset original view', 'home', 'home'), ('Back', 'Back to previous …"
      ]
     },
     "metadata": {},
     "output_type": "display_data"
    }
   ],
   "source": [
    "p = 4000            # desired length of resampled data\n",
    "\n",
    "X0 = A0[0]\n",
    "tmin = np.min(X0)            # start time\n",
    "tmax = np.max(X0)            # finish time\n",
    "sr = p / (tmax-tmin)         # the sample rate\n",
    "\n",
    "plt.close('all')\n",
    "\n",
    "cts = []\n",
    "for col in cols:\n",
    "  dmin = np.amin(A0[cols])\n",
    "  dmax = np.amax(A0[cols])\n",
    "  Y0 = A0[col]\n",
    "  Y1 = (Y0-dmin) / (dmax-dmin) # data axis, normalized to range(0, 1.0)\n",
    "\n",
    "  # resample\n",
    "  f = interp1d(X0, Y1, kind='cubic')                    # define the resampling function\n",
    "  X = np.linspace(tmin, tmax, p+1, endpoint=True)       # define the new time steps\n",
    "  Y = f(X)                                              # resample the original signal\n",
    "\n",
    "  # apply high-pass filter to eliminate the stimulation \"bump\" in the data\n",
    "  sos = signal.butter(3, 0.1, btype='highpass', fs=sr, output='sos')\n",
    "  Yf = signal.sosfiltfilt(sos, Y) # zero phase shift filter\n",
    "\n",
    "  # apply low-pass filter to smooth out higher frequencies in the data\n",
    "  sos = signal.butter(7, 2.0, btype='lowpass', fs=sr, output='sos')\n",
    "  Yf = signal.sosfiltfilt(sos, Yf) # zero phase shift filter\n",
    "\n",
    "  pks,_ = signal.find_peaks(Yf,prominence=0.04)       # find indices of peaks in the resampled, filtered data\n",
    "  pidx = np.around((X0.shape[0]-1)*pks/p).astype(int) # convert to indices in the original data\n",
    "  pts = [A0[0][pidx], A0[data_col][pidx]]             # save the peaks as points in the original data\n",
    "\n",
    "  fig, ax = plt.subplots(ncols=1, nrows=1, figsize=(12,3), constrained_layout=True)\n",
    "  fig.suptitle(\"Peaks: data column \" + str(col))\n",
    "  ax.set(ylabel=\"intensity\")\n",
    "  ax.plot(A0[0],A0[col])\n",
    "  ax.plot(A0[0,pidx],A0[col,pidx],'k.')          # plot the peak locations\n",
    "  ax.plot([cs,cs],[dmin,dmax],color='green')\n",
    "  plt.show()\n",
    "  \n",
    "  c = []\n",
    "  for i in range(len(cs)-1):\n",
    "    idx = pidx[(pidx >= istart[i]) & (pidx <= istart[i+1])]\n",
    "    c.append(len(idx))\n",
    "  ax.set(xlabel=\"time (s)                     peak counts: \" + str(c))\n",
    "  cts.append(c)\n",
    "  #plt.close() # frees up memory\n"
   ]
  },
  {
   "cell_type": "code",
   "execution_count": 141,
   "metadata": {},
   "outputs": [
    {
     "name": "stdout",
     "output_type": "stream",
     "text": [
      "[[14, 28, 23, 13], [9, 29, 26, 14], [8, 31, 26, 4]]\n",
      "[1 3 4]\n"
     ]
    },
    {
     "data": {
      "application/vnd.jupyter.widget-view+json": {
       "model_id": "02e65009a14e4767bf20800e7b7d53ac",
       "version_major": 2,
       "version_minor": 0
      },
      "text/plain": [
       "Canvas(toolbar=Toolbar(toolitems=[('Home', 'Reset original view', 'home', 'home'), ('Back', 'Back to previous …"
      ]
     },
     "metadata": {},
     "output_type": "display_data"
    }
   ],
   "source": [
    "  plt.close('all')\n",
    "\n",
    "  fig, ax = plt.subplots(ncols=1, nrows=1, figsize=(6,3), constrained_layout=True)\n",
    "  fig.suptitle(\"Peak counts summary\")\n",
    "  ax.set(xlabel=\"Stimulation time (s)\")\n",
    "\n",
    "  ax.xaxis.set_major_locator(mpl.ticker.MaxNLocator(integer=True))\n",
    "  #x_fmt = mpl.ticker.IndexFormatter(cs)\n",
    "  x_fmt = mpl.ticker.IndexFormatter(['0:150','150:320','320:500','500:700'])\n",
    "  ax.xaxis.set_major_formatter(x_fmt)\n",
    "\n",
    "  ax.set(ylabel=\"counts\")\n",
    "  ax.plot(np.transpose(cts))\n",
    "  plt.show()\n"
   ]
  },
  {
   "cell_type": "code",
   "execution_count": null,
   "metadata": {},
   "outputs": [],
   "source": []
  },
  {
   "cell_type": "code",
   "execution_count": null,
   "metadata": {},
   "outputs": [],
   "source": []
  },
  {
   "cell_type": "markdown",
   "metadata": {},
   "source": [
    "#### Peak counting over selected time range.\n",
    "Use the interactive sliders to set the start and finish times."
   ]
  },
  {
   "cell_type": "code",
   "execution_count": null,
   "metadata": {
    "jupyter": {
     "source_hidden": true
    }
   },
   "outputs": [],
   "source": [
    "#global variables\n",
    "istart = 0\n",
    "idone = 0\n",
    "idx = []\n",
    "\n",
    "with open(\"../results/\" + data_file, 'r', encoding='utf-8-sig') as f: \n",
    "  A0 = np.transpose(np.genfromtxt(f, dtype=float, delimiter=','))\n",
    "wtmax = np.ceil(A0[0,-1])\n",
    "dmin = np.amin(A0[data_col])\n",
    "dmax = np.amax(A0[data_col])\n",
    "count_start = 0.0   # count start time\n",
    "count_done = wtmax  # count end time\n",
    "p = 4000            # desired length of resampled data\n",
    "\n",
    "X0 = A0[0]\n",
    "Y0 = A0[data_col]\n",
    "tmin = np.min(X0)            # start time\n",
    "tmax = np.max(X0)            # finish time\n",
    "Y1 = (Y0-dmin) / (dmax-dmin) # data axis, normalized to range(0, 1.0)\n",
    "sr = p / (tmax-tmin)         # the sample rate\n",
    "\n",
    "# resample\n",
    "f = interp1d(X0, Y1, kind='cubic')                    # define the resampling function\n",
    "X = np.linspace(tmin, tmax, p+1, endpoint=True)       # define the new time steps\n",
    "Y = f(X)                                              # resample the original signal\n",
    "\n",
    "# apply high-pass filter to eliminate the stimulation \"bump\" in the data\n",
    "sos = signal.butter(3, 0.1, btype='highpass', fs=sr, output='sos')\n",
    "Yf = signal.sosfiltfilt(sos, Y) # zero phase shift filter\n",
    "\n",
    "# apply low-pass filter to smooth out higher frequencies in the data\n",
    "sos = signal.butter(7, 2.0, btype='lowpass', fs=sr, output='sos')\n",
    "Yf = signal.sosfiltfilt(sos, Yf) # zero phase shift filter\n",
    "\n",
    "pks,_ = signal.find_peaks(Yf,prominence=0.04)       # find indices of peaks in the resampled, filtered data\n",
    "pidx = np.around((X0.shape[0]-1)*pks/p).astype(int) # convert to indices in the original data\n",
    "pts = [A0[0][pidx], A0[data_col][pidx]]             # save the peaks as points in the original data\n",
    "\n",
    "plt.close('all')\n",
    "fig, ax = plt.subplots(ncols=1, nrows=2, figsize=(12,6), constrained_layout=True)\n",
    "\n",
    "@interact(\n",
    "  cs = widgets.FloatSlider(value=count_start, min=0.0, max=wtmax-1.0, step=1.0,\n",
    "                    description='start time', layout=Layout(width='700px')),\n",
    "  cd = widgets.FloatSlider(value=count_done, min=1.0, max=wtmax, step=1.0,\n",
    "                    description='finish time', layout=Layout(width='700px'))\n",
    ")\n",
    "\n",
    "def f(cs,cd):\n",
    "  global istart, idone, idx\n",
    "  istart = np.where(A0[0] > cs)[0][0]\n",
    "  idone = np.where(A0[0] < cd)[0][-1]\n",
    "\n",
    "  ax[0].cla()\n",
    "  ax[0].set_title(\"Time range selection\")\n",
    "  ax[0].set(ylabel=\"intensity\")\n",
    "  ax[0].set(xlabel=\"time (s)\")\n",
    "  ax[0].plot(A0[0],A0[data_col])\n",
    "  ax[0].plot([cs,cs],[dmin,dmax],color='green')\n",
    "  ax[0].plot([cd,cd],[dmin,dmax],color='red')\n",
    "\n",
    "  ax[1].cla()\n",
    "  ax[1].set_title(\"Peaks in time range\")\n",
    "  ax[1].set(ylabel=\"intensity\")\n",
    "  ax[1].set(xlabel=\"time (s)\")\n",
    "\n",
    "  idx = pidx[(pidx >= istart) & (pidx <= idone)]\n",
    "  ax[1].plot(A0[0,istart:idone],A0[data_col,istart:idone])\n",
    "  ax[1].plot(A0[0,idx],A0[data_col,idx],'k.')                                # plot the peak locations\n",
    "    \n",
    "  plt.show()\n",
    "  return(\"peaks count: \" + str(len(idx)))"
   ]
  },
  {
   "cell_type": "markdown",
   "metadata": {},
   "source": [
    "#### Save peaks to file."
   ]
  },
  {
   "cell_type": "code",
   "execution_count": null,
   "metadata": {
    "jupyter": {
     "source_hidden": true
    }
   },
   "outputs": [],
   "source": [
    "import csv\n",
    "\n",
    "# save peaks to CSV file\n",
    "with open (\"../results/peaks.csv\", 'w') as file:\n",
    "  writer = csv.writer(file)\n",
    "  for row in np.transpose(A0[:,idx]):\n",
    "    writer.writerow([row[0], row[data_col]])\n"
   ]
  }
 ],
 "metadata": {
  "kernelspec": {
   "display_name": "Python 3",
   "language": "python",
   "name": "python3"
  },
  "language_info": {
   "codemirror_mode": {
    "name": "ipython",
    "version": 3
   },
   "file_extension": ".py",
   "mimetype": "text/x-python",
   "name": "python",
   "nbconvert_exporter": "python",
   "pygments_lexer": "ipython3",
   "version": "3.8.6"
  }
 },
 "nbformat": 4,
 "nbformat_minor": 4
}
