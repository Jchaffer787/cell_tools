{
 "cells": [
  {
   "cell_type": "markdown",
   "metadata": {},
   "source": [
    "# Python notebook for post-processing apical responses.\n",
    "# Create image stack movie with regions plot.\n",
    "Assumes folder directory structure:\n",
    "<pre><code>  IMAGING\n",
    "    image_stacks\n",
    "    notebooks\n",
    "    results\n",
    "</code></pre>\n",
    "Execute the code sequentially, one block at a time, using &lt;shift-return&gt;."
   ]
  },
  {
   "cell_type": "code",
   "execution_count": 1,
   "metadata": {
    "jupyter": {
     "source_hidden": true
    }
   },
   "outputs": [],
   "source": [
    "import glob\n",
    "import ipywidgets as widgets\n",
    "import numpy as np\n",
    "import matplotlib as mpl\n",
    "import matplotlib.pyplot as plt\n",
    "from matplotlib.animation import FuncAnimation\n",
    "import os\n",
    "from skimage import io\n",
    "from skimage.color import gray2rgb\n",
    "from skimage.feature import canny\n",
    "from skimage.util import img_as_ubyte\n"
   ]
  },
  {
   "cell_type": "markdown",
   "metadata": {},
   "source": [
    "#### Select an image stack, a results directory and one or more regions.\n",
    "Select multiple regions using command-click."
   ]
  },
  {
   "cell_type": "code",
   "execution_count": 3,
   "metadata": {
    "collapsed": true,
    "jupyter": {
     "outputs_hidden": true,
     "source_hidden": true
    }
   },
   "outputs": [
    {
     "data": {
      "application/vnd.jupyter.widget-view+json": {
       "model_id": "3af970baaab146948448e1b45022fd52",
       "version_major": 2,
       "version_minor": 0
      },
      "text/plain": [
       "interactive(children=(Select(description='Image stack', layout=Layout(width='400px'), options=('Mistgcamp-1.ti…"
      ]
     },
     "metadata": {},
     "output_type": "display_data"
    }
   ],
   "source": [
    "%matplotlib widget\n",
    "\n",
    "# global variables\n",
    "image_sel = \"\"    # the selected image stack\n",
    "results_sel = \"\"  # the selected results directory\n",
    "regions_sel = []  # a list of the region files selected\n",
    "tag_inds = {}     # empty dictionary of tag indices per results directory\n",
    "image_fps = 10            # image data frames per second\n",
    "\n",
    "# create image files widget\n",
    "image_files = sorted([f.split('/')[-1] for f in glob.glob(\"../image_stacks/*.tif\", recursive=False)], key=str.casefold)\n",
    "image_widget = widgets.Select(options=image_files, description='Image stack', \n",
    "                            disabled=False, layout=widgets.Layout(width='400px'))\n",
    "# create results directory widget\n",
    "result_dirs = sorted([f.split('/')[-2] for f in glob.glob(\"../results/*/\", recursive=False)], key=str.casefold)\n",
    "results_widget = widgets.Select(options=[], description='Results dir', \n",
    "                            disabled=False, layout=widgets.Layout(width='400px'))\n",
    "# create regions widget\n",
    "regions_widget = widgets.SelectMultiple(options=[], description='Regions', \n",
    "                            disabled=False, layout=widgets.Layout(width='400px'))\n",
    "\n",
    "# create numeric input widgets\n",
    "s = {'description_width':'200px'} # a default widget style\n",
    "image_fps_widget = widgets.BoundedIntText(value=image_fps, min=1, max=40, step=1,\n",
    "                    description='Image stack frames per second', disabled=False, layout={'width':'270px'}, style=s)\n",
    "\n",
    "# create status widget\n",
    "status_widget = widgets.HTML(value=' ', description=' ')\n",
    "\n",
    "# update the results dirs based on the image file selection\n",
    "def update_result_dirs(*args):\n",
    "  global tag_inds\n",
    "  rdirs = []\n",
    "  tag_inds = {}\n",
    "  for d in result_dirs:\n",
    "    if not os.path.exists(\"../results/\" + d + \"/image_stacks.txt\"):\n",
    "        continue\n",
    "    f = open(\"../results/\" + d + \"/image_stacks.txt\", 'r')\n",
    "    for idx,l in enumerate(f):\n",
    "      if l.rstrip() == image_widget.value:\n",
    "        rdirs.append(d)\n",
    "        tag_inds.update({d:idx})\n",
    "        break;\n",
    "    f.close()\n",
    "  results_widget.options = rdirs    # populate the results widget\n",
    "  if not rdirs:                     # clear the widget if no regions\n",
    "    regions_widget.options = []\n",
    "\n",
    "# update the regions based on the results directory selection\n",
    "def update_regions(*args):\n",
    "  if results_widget.value == None:\n",
    "    return\n",
    "  region_files = os.listdir(\"../results/\" + results_widget.value)\n",
    "  region_files = sorted([f for f in region_files if 'apical_region' in f and '.csv' in f][:-1])\n",
    "  regions_widget.options = region_files\n",
    "\n",
    "# widget change callbacks\n",
    "image_widget.observe(update_result_dirs, 'value')\n",
    "results_widget.observe(update_regions, 'value')\n",
    "\n",
    "# display and respond to the widgets\n",
    "update_result_dirs()\n",
    "update_regions()\n",
    "def f(w1, w2, w3, w4, w5):\n",
    "  global image_sel, results_sel, regions_sel, image_fps\n",
    "  image_sel = image_widget.value\n",
    "  image_fps = image_fps_widget.value\n",
    "  results_sel = results_widget.value\n",
    "  regions_sel = list(regions_widget.value)\n",
    "  if not regions_sel:\n",
    "    if not results_sel:\n",
    "      if not image_sel:\n",
    "        status_widget.value = \"No image stack selected.\"\n",
    "      else:\n",
    "        status_widget.value = \"No result directory selected.\"\n",
    "    else:\n",
    "      status_widget.value = \"No region(s) selected.\"\n",
    "  else:\n",
    "    status_widget.value = \"Selection OK.\"\n",
    "display(widgets.interactive(f, w1=image_widget, w2=results_widget, w3=regions_widget, w4=status_widget, w5=image_fps_widget))"
   ]
  },
  {
   "cell_type": "markdown",
   "metadata": {},
   "source": [
    "#### Select movie options.\n",
    "Note: An LUT color reference can be found at:\n",
    "https://matplotlib.org/3.1.1/gallery/color/colormap_reference.html "
   ]
  },
  {
   "cell_type": "code",
   "execution_count": 4,
   "metadata": {
    "collapsed": true,
    "jupyter": {
     "outputs_hidden": true,
     "source_hidden": true
    }
   },
   "outputs": [
    {
     "data": {
      "application/vnd.jupyter.widget-view+json": {
       "model_id": "1b83dc96377a43c298f60663fac003fc",
       "version_major": 2,
       "version_minor": 0
      },
      "text/plain": [
       "interactive(children=(Checkbox(value=True, description='Display ROI color key image'), Checkbox(value=True, de…"
      ]
     },
     "metadata": {},
     "output_type": "display_data"
    }
   ],
   "source": [
    "%matplotlib widget\n",
    "\n",
    "# global variables\n",
    "lut = 'coolwarm'    # the stack animation color lookup table\n",
    "roi_key = True\n",
    "stack_smoothing = 'low'\n",
    "stack_regions = True\n",
    "\n",
    "# create plot(s) ROI key widget\n",
    "roi_key_widget = widgets.Checkbox(value=roi_key, description='Display ROI color key image',\n",
    "                 disabled=False, indent=True)\n",
    "# create lut widget\n",
    "lut_widget = widgets.Dropdown(options=plt.colormaps(), value=lut, description='Stack LUT', \n",
    "             disabled=False, layout=widgets.Layout(width='200px'))\n",
    "# create stack smoothing widget\n",
    "smoothing_widget = widgets.Dropdown(options=['none', 'low', 'medium'], value=stack_smoothing, \n",
    "             description='Smoothing', disabled=False, layout=widgets.Layout(width='200px'))\n",
    "# create stack regions widget\n",
    "regions_widget = widgets.Checkbox(value=stack_regions, description='Display regions on stack',\n",
    "                 disabled=False, indent=True)\n",
    "\n",
    "# display and respond to the widgets\n",
    "def f(w1,w2,w3,w4):\n",
    "  global roi_key, lut, stack_smoothing, stack_regions\n",
    "  roi_key = roi_key_widget.value\n",
    "  lut = lut_widget.value \n",
    "  stack_smoothing = smoothing_widget.value\n",
    "  stack_regions = regions_widget.value\n",
    "display(widgets.interactive(f, w1=roi_key_widget, w3=lut_widget, w4=smoothing_widget, w2=regions_widget))"
   ]
  },
  {
   "cell_type": "markdown",
   "metadata": {},
   "source": [
    "#### Generate the movie file.\n",
    "NOTE: May take a minute or two to run depending on the number of regions selected."
   ]
  },
  {
   "cell_type": "code",
   "execution_count": 5,
   "metadata": {
    "jupyter": {
     "source_hidden": true
    }
   },
   "outputs": [
    {
     "name": "stdout",
     "output_type": "stream",
     "text": [
      "Processing frame: 0, 1, 2, 3, 4, 5, 6, 7, 8, 9, 10, 11, 12, 13, 14, 15, 16, 17, 18, 19, 20, 21, 22, 23, 24, 25, 26, 27, 28, 29, 30, 31, 32, 33, 34, 35, 36, 37, 38, 39, 40, 41, 42, 43, 44, 45, 46, 47, 48, 49, 50, 51, 52, 53, 54, 55, 56, 57, 58, 59, 60, 61, 62, 63, 64, 65, 66, 67, 68, 69, 70, 71, 72, 73, 74, 75, 76, 77, 78, 79, 80, 81, 82, 83, 84, 85, 86, 87, 88, 89, 90, 91, 92, 93, 94, 95, 96, 97, 98, 99, 100, 101, 102, 103, 104, 105, 106, 107, 108, 109, 110, 111, 112, 113, 114, 115, 116, 117, 118, 119, 120, 121, 122, 123, 124, 125, 126, 127, 128, 129, 130, 131, 132, 133, 134, 135, 136, 137, 138, 139, 140, 141, 142, 143, 144, 145, 146, 147, 148, 149, 150, 151, 152, 153, 154, 155, 156, 157, 158, 159, 160, 161, 162, 163, 164, 165, 166, 167, 168, 169, 170, 171, 172, 173, 174, 175, 176, 177, 178, 179, 180, 181, 182, 183, 184, 185, 186, 187, 188, 189, 190, 191, 192, 193, 194, 195, 196, 197, 198, 199, 200, 201, 202, 203, 204, 205, 206, 207, 208, 209, 210, 211, 212, 213, 214, 215, 216, 217, 218, 219, 220, 221, 222, 223, 224, 225, 226, 227, 228, 229, 230, 231, 232, 233, 234, 235, 236, 237, 238, 239, 240, 241, 242, 243, 244, 245, 246, 247, 248, 249, 250, 251, 252, 253, 254, 255, 256, 257, 258, 259, 260, 261, 262, 263, 264, 265, 266, 267, 268, 269, 270, 271, 272, 273, 274, 275, 276, 277, 278, 279, 280, 281, 282, 283, 284, 285, 286, 287, 288, 289, 290, 291, 292, 293, 294, 295, 296, 297, 298, 299, DONE.\n"
     ]
    }
   ],
   "source": [
    "backend = mpl.get_backend()\n",
    "mpl.use(\"Agg\")  # don't display the animation\n",
    "print(\"Processing frame: \", end = '')\n",
    "\n",
    "# get the default plot colors\n",
    "colors = plt.rcParams['axes.prop_cycle'].by_key()['color']\n",
    "\n",
    "# get the image stack\n",
    "image_file = \"../image_stacks/\" + image_sel\n",
    "image_bits = 10\n",
    "A0 = io.imread(image_file)\n",
    "A = np.float32(A0/(2.0**image_bits))\n",
    "if stack_smoothing != 'none':\n",
    "  if stack_smoothing == 'low':\n",
    "    sc = 1                                  # for moving average over 3 frames\n",
    "  if stack_smoothing == 'medium':\n",
    "    sc = 2                                  # for moving average over 5 frames\n",
    "  for i in range(sc,A.shape[0]-sc):         # calculate moving average\n",
    "    A[i] = np.mean(A[i-sc:i+sc+1], axis=0)\n",
    "  for i in range(sc):                       # duplicate beginning and ending frames\n",
    "    A[i] = A[2]\n",
    "    A[-(1+i)] = A[-(sc+1)]\n",
    "\n",
    "# create a regions reference image\n",
    "Aref = gray2rgb(np.copy(A[0])) # first frame of processed image stack\n",
    "\n",
    "# apply the lut to the image stack\n",
    "cmap = plt.get_cmap(lut)\n",
    "A = cmap(A)\n",
    "\n",
    "# get the apical mask\n",
    "M = io.imread(glob.glob(\"../results/\" + results_sel + \"/*apical_mask_labelled.tif\", recursive=False)[0])\n",
    "\n",
    "# get the results data and color the region perimeters in the image stack\n",
    "D = []\n",
    "for idx,s in enumerate(regions_sel):\n",
    "  data_file = \"../results/\" + results_sel + '/' + s\n",
    "  D.append(np.genfromtxt(data_file, delimiter=','))\n",
    "  temp = np.where(M==int(s.split('-')[0].split('_')[-1]))\n",
    "  Aref[temp] = mpl.colors.to_rgb(colors[idx])                     # using the same colors as the plot(s)\n",
    "  if stack_regions:\n",
    "    temp = np.zeros(A0[0].shape)                                  # this region mask\n",
    "    temp[np.where(M==int(s.split('-')[0].split('_')[-1]))] = 1.0  # find this region value\n",
    "    perimeter = canny(img_as_ubyte(temp))                         # create a perimeter for this region\n",
    "    for im in A:                                                  # draw the perimeter in every image frame\n",
    "      if roi_key:\n",
    "        im[perimeter] = cmap(0)                                   # color of minimum value if rio key is shown\n",
    "      else:\n",
    "        im[perimeter] = mpl.colors.to_rgba(colors[idx])           # using the same colors as the plot(s)\n",
    "D = np.array(D)  # convert list to numpy array\n",
    "tag_ind = tag_inds[results_sel] # get the tag index for this results directory\n",
    "\n",
    "# setup the figure\n",
    "fig = plt.figure(constrained_layout=True, figsize = [13,6], dpi=100)\n",
    "gs = fig.add_gridspec(2,2)\n",
    "ax0 = fig.add_subplot(gs[:,0])  # the image stack\n",
    "ax1 = fig.add_subplot(gs[1,1])  # the region plot(s)\n",
    "ax2 = fig.add_subplot(gs[0,1])  # regions reference image \n",
    "\n",
    "# image subplot\n",
    "ax0.axis('off')\n",
    "im = ax0.imshow(A[0], norm=None, cmap=lut)\n",
    "pbtime = ax0.annotate(\"00.0\", (18,A.shape[2]-20), size=14)\n",
    "fig.colorbar(im, ax=ax0, orientation='horizontal', label='Fluorescence (normalized)', shrink=0.85)\n",
    "\n",
    "# region plot(s) subplot\n",
    "ax1.set_xlim(1,10.0*np.ceil(D[0,-1,0]/10.0))     # just use final value in first region\n",
    "ax1.set_ylim(0,100.0*np.ceil(np.amax(D[:,:,tag_ind+1]/100.0)))  # max value across all regions for tag\n",
    "ax1.set(ylabel=\"%F/F0\")\n",
    "ax1.set(xlabel=\"time (s)\")\n",
    "X = [None] * len(regions_sel)     # list of plot value lists (per region)\n",
    "Y = [None] * len(regions_sel)     #\n",
    "lines = [None] * len(regions_sel) # list of plotted lines (per region)\n",
    "for idx,r in enumerate(D):        # plot the first value in each region\n",
    "  X[idx] = [r[0,0]]\n",
    "  Y[idx] = [r[0,tag_ind+1]]\n",
    "  line, = ax1.plot(X[idx],Y[idx])\n",
    "  lines[idx] = line\n",
    "\n",
    "# regions reference image\n",
    "#ax2.axis('off')\n",
    "ax2.set_xticks([])\n",
    "ax2.set_yticks([])\n",
    "[s.set_visible(False) for s in ax2.spines.values()]\n",
    "ax2.set(ylabel=\"region key\")\n",
    "\n",
    "if roi_key:\n",
    "  ax2.imshow(Aref, norm=None)\n",
    "\n",
    "def init_func():\n",
    "  return\n",
    "\n",
    "# animate the figure\n",
    "def animation_frame(i):\n",
    "  print(str(i) + \", \", end = '')\n",
    "  for idx,r in enumerate(D):    # update region plot(s)\n",
    "    X[idx].append(r[i,0])\n",
    "    Y[idx].append(r[i,tag_ind+1])  \n",
    "    lines[idx].set_xdata(X[idx])\n",
    "    lines[idx].set_ydata(Y[idx])\n",
    "  im.set_data(A[i])             # get current image frame\n",
    "  pbtime.set_text('{:0>4.1f}s'.format(i/float(image_fps)))\n",
    "  return\n",
    "animation = FuncAnimation(fig, animation_frame, blit=False, repeat=False, init_func=init_func,\n",
    "                          frames=D.shape[1], interval=np.int(1000.0*D[0,1,0]))\n",
    "\n",
    "# save the animation to a movie file\n",
    "animation.save(\"../results/\" + results_sel + \"/apical.mp4\")\n",
    "\n",
    "print(\"DONE.\")\n",
    "mpl.use(backend) # restore the backend for display\n"
   ]
  },
  {
   "cell_type": "code",
   "execution_count": null,
   "metadata": {},
   "outputs": [],
   "source": []
  },
  {
   "cell_type": "code",
   "execution_count": null,
   "metadata": {},
   "outputs": [],
   "source": []
  }
 ],
 "metadata": {
  "kernelspec": {
   "display_name": "Python 3",
   "language": "python",
   "name": "python3"
  },
  "language_info": {
   "codemirror_mode": {
    "name": "ipython",
    "version": 3
   },
   "file_extension": ".py",
   "mimetype": "text/x-python",
   "name": "python",
   "nbconvert_exporter": "python",
   "pygments_lexer": "ipython3",
   "version": "3.8.6"
  }
 },
 "nbformat": 4,
 "nbformat_minor": 4
}
