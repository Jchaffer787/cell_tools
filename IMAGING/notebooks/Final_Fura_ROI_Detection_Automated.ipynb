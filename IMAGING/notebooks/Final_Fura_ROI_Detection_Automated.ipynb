{
 "cells": [
  {
   "cell_type": "code",
   "execution_count": 1,
   "metadata": {
    "jupyter": {
     "source_hidden": true
    }
   },
   "outputs": [],
   "source": [
    "import skimage.io as io\n",
    "import numpy as np\n",
    "import csv\n",
    "import datetime\n",
    "import glob\n",
    "import ipywidgets as widgets\n",
    "from PIL import Image as im\n",
    "import os\n",
    "from matplotlib import pyplot as plt\n",
    "import skimage.morphology as skmorph\n",
    "import scipy.ndimage as ndi\n",
    "from skimage import data\n",
    "from skimage import filters\n",
    "from skimage import feature\n",
    "import skimage.measure as skmeas\n",
    "import skimage.segmentation as skseg\n",
    "from skimage.feature import peak_local_max\n",
    "import random\n",
    "import pandas as pd\n",
    "import cv2\n",
    "import copy\n",
    "\n",
    "# Global variables\n",
    "if os.name == \"nt\":\n",
    "    FILE_SEP = \"\\\\\"\n",
    "else:\n",
    "    FILE_SEP = \"/\""
   ]
  },
  {
   "cell_type": "code",
   "execution_count": 2,
   "metadata": {
    "jupyter": {
     "source_hidden": true
    }
   },
   "outputs": [
    {
     "data": {
      "application/vnd.jupyter.widget-view+json": {
       "model_id": "03ccdb9831b044b0be593bb6a9aa9444",
       "version_major": 2,
       "version_minor": 0
      },
      "text/plain": [
       "interactive(children=(BoundedIntText(value=10, description='FPS of tif files:', layout=Layout(width='150px'), …"
      ]
     },
     "metadata": {},
     "output_type": "display_data"
    }
   ],
   "source": [
    "# Global variables\n",
    "file_locations_340 = []\n",
    "file_locations_ratio = []\n",
    "file_names = []\n",
    "image_fps = 10\n",
    "s = {'description_width':'initial'} # A default widget style\n",
    "\n",
    "# Aggregating 340 and Ratio Tifs into Lists\n",
    "for image in sorted([f.split(FILE_SEP)[-1] for f in glob.glob(\"../image_stacks/*\", recursive=False)], key=str.casefold):\n",
    "    file_names.append(str(image))\n",
    "    file_locations_340.append(\"../image_stacks/\" + image + \"/\" + image + \" 340nm.tif\")\n",
    "    file_locations_ratio.append(\"../image_stacks/\" + image + \"/\" + image + \" Ratio.tif\")\n",
    "fps_widget = widgets.BoundedIntText(value=image_fps, min=0, max=100, step=1,\n",
    "                    description='FPS of tif files:', disabled=False, layout={'width':'150px'}, style=s)\n",
    "def f(w1):\n",
    "  global image_fps\n",
    "  image_fps = fps_widget.value\n",
    "display(widgets.interactive(f, w1 = fps_widget))"
   ]
  },
  {
   "cell_type": "code",
   "execution_count": 3,
   "metadata": {
    "jupyter": {
     "source_hidden": true
    }
   },
   "outputs": [
    {
     "name": "stdout",
     "output_type": "stream",
     "text": [
      "Done.\n"
     ]
    }
   ],
   "source": [
    "# Create Appropriately Labeled Results Directories\n",
    "if not os.path.exists(\"../results\"):\n",
    "  os.mkdir(\"../results\")\n",
    "resultsdirs = []\n",
    "for image in sorted([f.split(FILE_SEP)[-1] for f in glob.glob(\"../image_stacks/*\", recursive=False)], key=str.casefold):\n",
    "    resultsdirs.append(\"../results/\" + image + \" Results\")\n",
    "    if not os.path.exists(\"../results/\" + image + \" Results\"):\n",
    "        os.mkdir(\"../results/\" + image + \" Results\")\n",
    "print(\"Done.\") # Inform User that codeblock is done running"
   ]
  },
  {
   "cell_type": "code",
   "execution_count": 4,
   "metadata": {
    "jupyter": {
     "source_hidden": true
    }
   },
   "outputs": [
    {
     "name": "stdout",
     "output_type": "stream",
     "text": [
      "['../image_stacks/CCh experiment 1/CCh experiment 1 340nm.tif']\n"
     ]
    }
   ],
   "source": [
    "print(file_locations_340)"
   ]
  },
  {
   "cell_type": "code",
   "execution_count": 5,
   "metadata": {
    "jupyter": {
     "source_hidden": true
    }
   },
   "outputs": [
    {
     "data": {
      "application/vnd.jupyter.widget-view+json": {
       "model_id": "3b7529e10c8f4927918e415a5cb0876f",
       "version_major": 2,
       "version_minor": 0
      },
      "text/plain": [
       "HBox(children=(Output(), VBox(children=(Label(value='Threshold Size for CCh experiment 1:'), Dropdown(index=1,…"
      ]
     },
     "metadata": {},
     "output_type": "display_data"
    }
   ],
   "source": [
    "%matplotlib inline\n",
    "\n",
    "baseline_imgs = []\n",
    "# Reading in 340 tifs to make initial images for masking\n",
    "for file in file_locations_340:\n",
    "    image_340 = io.imread(file, plugin=\"tifffile\")\n",
    "    image_340 = image_340[0]\n",
    "    baseline_img = cv2.normalize(image_340, None, alpha=0,beta=255,norm_type=cv2.NORM_MINMAX)\n",
    "    baseline_img = cv2.GaussianBlur(baseline_img, (9,9), cv2.BORDER_DEFAULT)\n",
    "    img = baseline_img.astype('uint8')\n",
    "    baseline_imgs.append(img)\n",
    "\n",
    "# Creating label and dropdown widgets\n",
    "label_widgets = [widgets.Label(\"Threshold Size for \" + file_names[i] + \":\") for i in range(0,len(baseline_imgs))]\n",
    "threshold_widgets = [widgets.Dropdown(options=[('XSmall',21),('Small',41),('Medium',71),('Large',141)],value=41) for i in range(0,len(baseline_imgs))]\n",
    "out = widgets.Output()\n",
    "\n",
    "# Displaying each baseline image and widget for selecting threshold size for that image\n",
    "for i in range(0,len(baseline_imgs)):\n",
    "    thresh_widg = widgets.VBox(children=[label_widgets[i],threshold_widgets[i]])\n",
    "    threshold_options = widgets.HBox(children=[out,thresh_widg])\n",
    "    display(threshold_options)\n",
    "    with out:\n",
    "        plt.figure(figsize=(5,5))\n",
    "        plt.imshow(baseline_imgs[i])\n",
    "        plt.show()\n",
    "        plt.close() # Frees up memory\n",
    "    out = widgets.Output()"
   ]
  },
  {
   "cell_type": "code",
   "execution_count": 10,
   "metadata": {
    "jupyter": {
     "source_hidden": true
    }
   },
   "outputs": [
    {
     "data": {
      "application/vnd.jupyter.widget-view+json": {
       "model_id": "ce60648d3fcd4d4cb4e664f85c48d48c",
       "version_major": 2,
       "version_minor": 0
      },
      "text/plain": [
       "HBox(children=(Output(), VBox(children=(Label(value='Mask for CCh experiment 1'), BoundedIntText(value=0, desc…"
      ]
     },
     "metadata": {},
     "output_type": "display_data"
    }
   ],
   "source": [
    "# %matplotlib inline\n",
    "\n",
    "# Initial Values for widgets\n",
    "erosions = 0\n",
    "max_size = 6000\n",
    "min_size = 200\n",
    "keep_edge_ROIS = True\n",
    "\n",
    "s = {'description_width':'initial'} # A default widget style\n",
    "\n",
    "# Creating erosions and other widgets\n",
    "erosions_widgets = [widgets.BoundedIntText(value=erosions, min=0, max=10, step=1,\n",
    "                    description='Number of erosions', disabled=False, layout={'width':'220px'}, style=s) \n",
    "                   for i in enumerate(baseline_imgs)]\n",
    "max_size_widgets = [widgets.BoundedIntText(value=max_size, min=500, max=8000, step=50,\n",
    "                    description='Max Size of ROIs', disabled=False, layout={'width':'220px'}, style=s)\n",
    "                   for i in enumerate(baseline_imgs)]\n",
    "min_size_widgets = [widgets.BoundedIntText(value=min_size, min=0, max=8000, step=50,\n",
    "                    description='Min Size of ROIs', disabled=False, layout={'width':'220px'}, style=s)\n",
    "                   for i in enumerate(baseline_imgs)]\n",
    "keep_edge_ROIS_widgets = [widgets.Checkbox(value=keep_edge_ROIS, layout={'width':'300px'}, style = s, \n",
    "                                         description=\"Un-Check this box to discard edge ROIS\",\n",
    "                                         disabled=False, indent=False)\n",
    "                         for i in enumerate(baseline_imgs)]\n",
    "label_widgets = [widgets.Label(\"Mask for \" + file_names[i]) for i in range(0,len(baseline_imgs))]\n",
    "\n",
    "# Empty list for storing mask images\n",
    "masks = []\n",
    "\n",
    "# Thresholding each image based on selected threshold size to create list of masks\n",
    "for i in range(0,len(baseline_imgs)):\n",
    "    thresh = cv2.adaptiveThreshold(baseline_imgs[i],255,cv2.ADAPTIVE_THRESH_MEAN_C,\n",
    "                                  cv2.THRESH_BINARY,threshold_widgets[i].value,-1)\n",
    "    mask = ndi.binary_fill_holes(skmorph.binary_dilation(filters.median(thresh)))\n",
    "    masks.append(mask)\n",
    "\n",
    "# Displaying each mask\n",
    "out = widgets.Output()\n",
    "for i in range(0,len(baseline_imgs)):\n",
    "    widg = widgets.VBox(children=[label_widgets[i],erosions_widgets[i],max_size_widgets[i],\n",
    "                                  min_size_widgets[i], keep_edge_ROIS_widgets[i]])\n",
    "    mask_widgs = widgets.HBox(children=[out,widg])\n",
    "    display(mask_widgs)\n",
    "    with out:\n",
    "        fig, (ax1,ax2) = plt.subplots(nrows=1, ncols=2, figsize = [10, 10])\n",
    "        ax1.imshow(baseline_imgs[i])\n",
    "        ax2.imshow(masks[i])\n",
    "        plt.show()  \n",
    "        plt.close() # Frees up memory\n",
    "    out=widgets.Output()"
   ]
  },
  {
   "cell_type": "code",
   "execution_count": 11,
   "metadata": {
    "jupyter": {
     "source_hidden": true
    }
   },
   "outputs": [
    {
     "data": {
      "image/png": "[encoded data removed]",
      "text/plain": [
       "<Figure size 720x720 with 1 Axes>"
      ]
     },
     "metadata": {
      "needs_background": "light"
     },
     "output_type": "display_data"
    }
   ],
   "source": [
    "%matplotlib inline\n",
    "# New bounding box segmentation method\n",
    "segmented_masks = []\n",
    "\n",
    "# Removing small objects\n",
    "for i in range(0,len(baseline_imgs)):\n",
    "    mask_label = skmeas.label(masks[i])\n",
    "    objs = skmeas.regionprops(mask_label)\n",
    "    temp = np.zeros_like(mask_label)\n",
    "    for obj in objs:\n",
    "        if obj.area < max_size_widgets[i].value and obj.area > min_size_widgets[i].value:\n",
    "            temp = temp + (mask_label == obj.label)\n",
    "    \n",
    "    masks[i] = temp.astype('int32')\n",
    "    \n",
    "# Performing Erosions\n",
    "for i in range(0,len(baseline_imgs)):\n",
    "    for j in range(erosions_widgets[i].value):\n",
    "        masks[i] = skmorph.binary_erosion(masks[i])\n",
    "    \n",
    "# Obtaining bounding boxes for each object in mask\n",
    "for i in range(0,len(baseline_imgs)):\n",
    "    mask_label = skmeas.label(masks[i])\n",
    "    objs = skmeas.regionprops(mask_label)\n",
    "    labeled_mask = np.zeros(masks[i].shape)\n",
    "    increment = 0\n",
    "    for obj in objs:\n",
    "        box = obj.bbox\n",
    "        # Removing any other objects from bounding box\n",
    "        temp = np.zeros(masks[i].shape)\n",
    "        temp_label = skmeas.label(masks[i])\n",
    "        temp_objs = skmeas.regionprops(temp_label)\n",
    "        for temp_obj in temp_objs:\n",
    "            if temp_obj == obj:\n",
    "                temp = temp + (temp_label == temp_obj.label)\n",
    "        temp = temp.astype('int32')\n",
    "        image = temp[box[0]:box[2],box[1]:box[3]]\n",
    "        # Taking distance transform of bounding box\n",
    "        dist = ndi.distance_transform_edt(image)\n",
    "        # Normalizing distance transform to [0,1]\n",
    "        dist_norm = cv2.normalize(-dist, None, alpha=0,beta=1,norm_type=cv2.NORM_MINMAX,dtype=cv2.CV_32F)\n",
    "        dist_norm = cv2.GaussianBlur(dist_norm, (3,3), cv2.BORDER_DEFAULT)\n",
    "        # Taking bounding box area from original intensity image\n",
    "        intense = (baseline_imgs[i][box[0]:box[2],box[1]:box[3]])\n",
    "        # Normalizing intensity image to [0,1]\n",
    "        intense_norm = cv2.normalize(intense, None, alpha=0,beta=1,norm_type=cv2.NORM_MINMAX,dtype=cv2.CV_32F)\n",
    "        intense_norm = cv2.GaussianBlur(intense_norm, (3,3), cv2.BORDER_DEFAULT)\n",
    "        # Subtracting distance transform values from intensity values\n",
    "        S = intense_norm - dist_norm\n",
    "        h_max = skmorph.extrema.h_maxima(S,.15)\n",
    "        coords = peak_local_max(h_max,min_distance = 10, exclude_border=False, \n",
    "                                footprint=np.ones((4,4)),labels=image)\n",
    "        mask = np.zeros(S.shape,dtype=bool)\n",
    "        mask[tuple(coords.T)] = True\n",
    "        markers = ndi.label(mask)[0]\n",
    "        labels = skseg.watershed(-S,markers,mask=image,watershed_line=True)\n",
    "        watershed_lines = np.zeros(shape=np.shape(labels)) # Creating watershed lines mask\n",
    "        watershed_lines[labels==0] = 1 #Filling in watershed lines mask\n",
    "        watershed_lines = skmorph.binary_dilation(watershed_lines) # Dilating Watershed Lines\n",
    "        watershed_lines = skmorph.binary_dilation(watershed_lines)\n",
    "        labels[watershed_lines==1] = 0 # Applying dilated watershed lines to labels\n",
    "        obj_indexes = labels > 0\n",
    "        labels[obj_indexes] = labels[obj_indexes] + increment\n",
    "        increment = np.max(labels) + 1\n",
    "        labeled_mask[box[0]:box[2],box[1]:box[3]][obj_indexes] = labels[obj_indexes]\n",
    "        #plt.figure(figsize=(10,10))\n",
    "        #plt.imshow(labels)\n",
    "        #plt.show()\n",
    "        #plt.close()\n",
    "    segmented_masks.append(labeled_mask)\n",
    "    plt.figure(figsize=(10,10))\n",
    "    plt.imshow(labeled_mask)\n",
    "    plt.show()\n",
    "    plt.close() # Frees up memory"
   ]
  },
  {
   "cell_type": "code",
   "execution_count": 12,
   "metadata": {
    "jupyter": {
     "source_hidden": true
    }
   },
   "outputs": [
    {
     "name": "stdout",
     "output_type": "stream",
     "text": [
      "Done.\n"
     ]
    }
   ],
   "source": [
    "%matplotlib inline\n",
    "\n",
    "# Global Variables\n",
    "ratio_imgs = []\n",
    "final_imgs = []\n",
    "Master_ROIs = []\n",
    "Master_COUNTs = []\n",
    "Master_Rs = []\n",
    "# Reading in ratio tifs to make images for comparison with processed masks\n",
    "for file in file_locations_ratio:\n",
    "    image_ratio = io.imread(file, plugin=\"tifffile\")\n",
    "    ratio_img = image_ratio[0]\n",
    "    img = ratio_img.astype('uint8')\n",
    "    ratio_imgs.append(img)\n",
    "    \n",
    "# Processing each segmented mask\n",
    "for i in range(0,len(baseline_imgs)):\n",
    "    # Closing edges\n",
    "    eroded_water = skmorph.binary_erosion(segmented_masks[i])\n",
    "    eroded_water_2 = skmorph.binary_erosion(eroded_water)\n",
    "    closed_one = skmorph.binary_closing(eroded_water_2)\n",
    "    closed_two = skmorph.binary_closing(closed_one)\n",
    "    # Canny edge detection\n",
    "    edges= feature.canny(closed_two, sigma = 2).astype(int)\n",
    "    dilated_edges = skmorph.binary_dilation(edges).astype(int)\n",
    "    # Edge ROI sealing if keep ROIS is True\n",
    "    if keep_edge_ROIS == True:\n",
    "        count = 0\n",
    "        while count < max_size:\n",
    "            rand_x = random.randint(0,edges.shape[0]-1)\n",
    "            rand_y = random.randint(0,edges.shape[0]-1)\n",
    "            final = skseg.flood_fill(dilated_edges,(rand_x,rand_y), 5)\n",
    "            count = np.count_nonzero(final == 5)\n",
    "        final[final<2] = 255\n",
    "    else:\n",
    "        final = ndi.binary_fill_holes(dilated_edges)\n",
    "    mask_label = skmeas.label(final)\n",
    "    objs = skmeas.regionprops(mask_label)\n",
    "    final = np.zeros_like(mask_label)\n",
    "    for obj in objs:\n",
    "        ratio_mean = 0\n",
    "        for x_coord, y_coord in obj.coords:\n",
    "            ratio_mean += ratio_imgs[i][x_coord,y_coord]\n",
    "        ratio_mean = ratio_mean / len(obj.coords)\n",
    "        if ratio_mean > 1 and obj.area < max_size_widgets[i].value and obj.area > min_size_widgets[i].value:\n",
    "            final = final + (mask_label == obj.label)\n",
    "    # Thresholding\n",
    "    final = final.astype(np.uint8)\n",
    "    ret, ratio_mask = cv2.threshold(ratio_imgs[i], 1, 255, cv2.THRESH_BINARY)\n",
    "    ratio_mask = ratio_mask.astype(np.uint8)\n",
    "    # BitwiseAND operation to only keep parts of ROIs that are present in both original mask and ratio_img mask\n",
    "    final = cv2.bitwise_and(ratio_mask,final)\n",
    "    # Filling in holes of ROIs\n",
    "    final = ndi.binary_fill_holes(final)\n",
    "    final = skmorph.binary_dilation(final)\n",
    "    final = ndi.binary_fill_holes(final)\n",
    "    \n",
    "    mask_label = skmeas.label(final)\n",
    "    objs = skmeas.regionprops(mask_label)\n",
    "    final = np.zeros_like(mask_label)\n",
    "    # Final removal of any accidental ROIs created\n",
    "    for obj in objs:\n",
    "        if obj.area < max_size_widgets[i].value and obj.area > min_size_widgets[i].value:\n",
    "            final = final + (mask_label == obj.label)\n",
    "    final_imgs.append(final)\n",
    "    \n",
    "    #For displaying updated masks\n",
    "    #plt.figure(figsize=(5,5))\n",
    "    #plt.imshow(final)\n",
    "    #plt.show()\n",
    "    #plt.close() # frees up memory\n",
    "\n",
    "# Creating master lists of ROIS and counts for each final image\n",
    "# Saved in case user wants to reset ROIs Removed\n",
    "for i in range(0,len(baseline_imgs)):\n",
    "    R, n = skmeas.label(final_imgs[i], return_num = True)\n",
    "    ROI, COUNT = np.unique(R, return_counts = True)\n",
    "    Master_ROIs.append(ROI)\n",
    "    Master_COUNTs.append(COUNT)\n",
    "    Master_Rs.append(R)\n",
    "    \n",
    "# Creating duplicate list of masks to use in ROI removal\n",
    "Removal_Masks = copy.deepcopy(final_imgs)\n",
    "print(\"Done.\") # Inform User that codeblock is done running"
   ]
  },
  {
   "cell_type": "code",
   "execution_count": 13,
   "metadata": {
    "jupyter": {
     "source_hidden": true
    }
   },
   "outputs": [
    {
     "data": {
      "application/vnd.jupyter.widget-view+json": {
       "model_id": "91dccf82cec84d8082bc9c135c7c92a0",
       "version_major": 2,
       "version_minor": 0
      },
      "text/plain": [
       "HBox(children=(Output(), VBox(children=(Label(value='Mask for CCh experiment 1'), Checkbox(value=False, descri…"
      ]
     },
     "metadata": {},
     "output_type": "display_data"
    }
   ],
   "source": [
    "Removal_ROIs = []\n",
    "Removal_COUNTs = []\n",
    "Removal_Rs = []\n",
    "reset_mask = False\n",
    "# Creating lists of ROIs and counts to be used in ROI removal\n",
    "for i in range(0,len(baseline_imgs)):\n",
    "    R, n = skmeas.label(Removal_Masks[i], return_num = True)\n",
    "    ROI, COUNT = np.unique(R, return_counts = True)\n",
    "    Removal_ROIs.append(ROI)\n",
    "    Removal_COUNTs.append(COUNT)\n",
    "    Removal_Rs.append(R)\n",
    "    \n",
    "# Creating widgets for ROI removal\n",
    "reset_mask_widgets = [widgets.Checkbox(value=reset_mask, layout={'width':'300px'}, style = s, \n",
    "                                         description=\"Reset to original mask\",\n",
    "                                         disabled=False, indent=False)\n",
    "                         for i in enumerate(baseline_imgs)]\n",
    "removal_widgets = [widgets.SelectMultiple(options=Removal_ROIs[i][1:], description = 'ROIs for Removal',\n",
    "                                         disabled=False, layout={'width':'175px', 'height':'120px'}, style={'description_width':'100px'})\n",
    "                   for i in range(0,len(baseline_imgs))]\n",
    "label_widgets = [widgets.Label(\"Mask for \" + file_names[i]) for i in range(0,len(baseline_imgs))]\n",
    "\n",
    "\n",
    "out = widgets.Output()\n",
    "for i in range(0,len(baseline_imgs)):\n",
    "    widg = widgets.VBox(children=[label_widgets[i],reset_mask_widgets[i],removal_widgets[i]])\n",
    "    roi_removal_widgets = widgets.HBox(children=[out,widg])\n",
    "    display(roi_removal_widgets)\n",
    "    with out:\n",
    "        plt.figure(figsize=(10,10))\n",
    "        plt.imshow(Removal_Masks[i], norm=None, vmax=2, cmap='gray') # Dim the white a bit, easier to see the annnotations\n",
    "        for props in skmeas.regionprops(Removal_Rs[i]):\n",
    "            y, x = props.centroid # Get the centroid for each region\n",
    "            t = plt.text(x, y, str(props.label), ha='center', va='center', size=14, c='r')\n",
    "        plt.show()\n",
    "        plt.close() # Frees up memory\n",
    "        print(\"apical ROI labels: \", Removal_ROIs[i][1:])\n",
    "        print(\"apical ROI pixel counts: \", Removal_COUNTs[i][1:])\n",
    "    out=widgets.Output()"
   ]
  },
  {
   "cell_type": "code",
   "execution_count": 14,
   "metadata": {
    "jupyter": {
     "source_hidden": true
    }
   },
   "outputs": [
    {
     "name": "stdout",
     "output_type": "stream",
     "text": [
      "Done, Re-Run Previous Code Block To View Updated ROIs\n"
     ]
    }
   ],
   "source": [
    "# User should essentially treat this code block as an \"enter\" or \"submit\" button\n",
    "for i in range(0,len(baseline_imgs)):\n",
    "    if reset_mask_widgets[i].value == True:\n",
    "        Removal_Masks[i] = final_imgs[i]\n",
    "    else:\n",
    "        for c in removal_widgets[i].value:\n",
    "            Removal_Masks[i][Removal_Rs[i]==Removal_ROIs[i][c]] = 0\n",
    "print(\"Done, Re-Run Previous Code Block To View Updated ROIs\")"
   ]
  },
  {
   "cell_type": "code",
   "execution_count": 15,
   "metadata": {
    "jupyter": {
     "source_hidden": true
    }
   },
   "outputs": [
    {
     "name": "stdout",
     "output_type": "stream",
     "text": [
      "[array([[0, 0, 0, ..., 0, 0, 0],\n",
      "       [0, 0, 0, ..., 0, 0, 0],\n",
      "       [0, 0, 0, ..., 0, 0, 0],\n",
      "       ...,\n",
      "       [0, 0, 0, ..., 0, 0, 0],\n",
      "       [0, 0, 0, ..., 0, 0, 0],\n",
      "       [0, 0, 0, ..., 0, 0, 0]])]\n"
     ]
    }
   ],
   "source": [
    "print(Removal_Masks)"
   ]
  },
  {
   "cell_type": "code",
   "execution_count": 16,
   "metadata": {
    "jupyter": {
     "source_hidden": true
    }
   },
   "outputs": [
    {
     "name": "stdout",
     "output_type": "stream",
     "text": [
      "Done.\n"
     ]
    }
   ],
   "source": [
    "# Finalizing ROIs for use plotting (Do not run this code block if still removing ROIs)\n",
    "ROIs = []\n",
    "COUNTs = []\n",
    "Rs = []\n",
    "# Creating lists of ROIs and counts to be used in ROI removal\n",
    "for i in range(0,len(baseline_imgs)):\n",
    "    R, n = skmeas.label(Removal_Masks[i], return_num = True)\n",
    "    ROI, COUNT = np.unique(R, return_counts = True)\n",
    "    ROIs.append(ROI)\n",
    "    COUNTs.append(COUNT)\n",
    "    Rs.append(R)\n",
    "print(\"Done.\") # Inform User that codeblock is done running"
   ]
  },
  {
   "cell_type": "code",
   "execution_count": 17,
   "metadata": {
    "jupyter": {
     "source_hidden": true
    }
   },
   "outputs": [
    {
     "name": "stdout",
     "output_type": "stream",
     "text": [
      "Done.\n"
     ]
    }
   ],
   "source": [
    "%matplotlib inline\n",
    "\n",
    "# Calculate, plot and save region responses for all stimulation frequencies\n",
    "\n",
    "# Calculate all of the results\n",
    "for i in range(0,len(baseline_imgs)):\n",
    "    B0 = io.imread(file_locations_ratio[i], plugin=\"tifffile\")\n",
    "    io.imsave(resultsdirs[i] + \"/\" + file_names[i] + \"-roi_mask_labelled.tif\", np.int16(Rs[i]), check_contrast=False) # Save labeled ROI Mask for movie\n",
    "    RESULTS = np.zeros((1, ROIs[i].shape[0] - 1, B0.shape[0]))\n",
    "    X = np.array(range(RESULTS.shape[2])) * (1/image_fps) # the timebase\n",
    "    \n",
    "    # For saving total responses to single CSV file\n",
    "    total_list = []    \n",
    "    temp_list = []\n",
    "    for x in X: # Adding time step column\n",
    "        temp_list.append(x)\n",
    "    total_list.append(temp_list[:])\n",
    "    temp_list.clear()\n",
    "    \n",
    "    for c in ROIs[i]:\n",
    "        S = B0[:,Rs[i]==ROIs[i][c]] / 1000\n",
    "        np.seterr(invalid='ignore') # Prevents printout of true_divide error\n",
    "        T = np.sum(S, axis=1) / np.count_nonzero(S,axis=1) # Summation of all pixel values at each time point divided by number of non-zero pixels\n",
    "        T[np.isnan(T)] = 0 # Converting any NAN values to actual value (zero)\n",
    "        RESULTS[0,c-1] = T\n",
    "        \n",
    "        # For saving total responses to single CSV file\n",
    "        for t in T:\n",
    "            temp_list.append(t)\n",
    "        total_list.append(temp_list[:]) #Append copy of temp list to total list\n",
    "        temp_list.clear()\n",
    "        \n",
    "    std_df = pd.DataFrame(total_list) #Creating dataframe without average col, for std plotting\n",
    "        \n",
    "    for n in range(1,len(ROIs[i])):\n",
    "        fig, ax = plt.subplots(nrows=1, ncols=1, figsize = [10,4])\n",
    "        fig.suptitle('apical region' + str(ROIs[i][n]).zfill(2) + \": mask \" + file_names[i] + \", \" + str(COUNTs[i][n]) + \" pixels\")\n",
    "        ax.plot(X, np.transpose(RESULTS[0,n-1, :]), label=\"Ratio\")\n",
    "        ax.set(ylabel=\"340nm/380nm\")\n",
    "        ax.set(xlabel=\"time (s)\")\n",
    "        ax.legend(loc='best')\n",
    "        fig.savefig(resultsdirs[i] + \"/apical_region_\" + str(n).zfill(2) + \"-mask\" + file_names[i] + \"-stimALL.pdf\")\n",
    "        #plt.show()\n",
    "        plt.close() # Frees up memory\n",
    "        with open (resultsdirs[i] + \"/apical_region_\" + str(n).zfill(2) +\n",
    "                  \"-mask\" + file_names[i] + \"-stimALL.csv\", 'w', newline=\"\") as file:\n",
    "            writer = csv.writer(file)\n",
    "            for j in range(RESULTS.shape[2]):\n",
    "                t = np.append(X[j], RESULTS[:,n-1,j])\n",
    "                writer.writerow('{:3.3e}'.format(x) for x in t)\n",
    "    # Plot average of region responses\n",
    "    fig, ax = plt.subplots(nrows=1, ncols=1, figsize = [10,4])\n",
    "    fig.suptitle(\"average over all apical regions, mask\" + file_names[i])\n",
    "    Y = np.transpose(np.sum(RESULTS, axis=(1)))/RESULTS.shape[1]\n",
    "    ax.plot(X, Y, label=\"Avg Ratio\")\n",
    "    ax.set(ylabel=\"340nm/380nm\")\n",
    "    ax.set(xlabel=\"time (s)\")\n",
    "    ax.legend(loc='best')\n",
    "    \n",
    "    # Save figure to pdf\n",
    "    fig.savefig(resultsdirs[i] + \"/apical_region_AVG-mask\" + file_names[i] + \"-stimALL.pdf\")\n",
    "    \n",
    "    #plt.show()\n",
    "    plt.close() # Frees up memory\n",
    "  \n",
    "    # Save average of responses to CSV file\n",
    "    with open(resultsdirs[i] + \"/apical_region_AVG-mask\" + file_names[i] + \"-stimALL.csv\", 'w', newline=\"\") as file:\n",
    "        writer = csv.writer(file)\n",
    "        for j in range(X.shape[0]):\n",
    "            t = np.append(X[j], Y[j])\n",
    "            writer.writerow('{:3.3e}'.format(x) for x in t)\n",
    "            \n",
    "    # Saving total responses to single CSV file\n",
    "    for y in Y:\n",
    "        temp_list.append(y[0])\n",
    "    total_list.append(temp_list[:])\n",
    "    df = pd.DataFrame(total_list).T # Creating and transposing data frame so each region is its own column\n",
    "    df.to_csv(resultsdirs[i] + \"/\" + file_names[i] + \"_TOTAL\" + \"-stimALL.csv\", \n",
    "              index=False,header=False) # Converting dataframe to csv file\n",
    "    # Standard deviation calculations and graphing\n",
    "    std_df = std_df[1:] # Removing the time step row from dataframe\n",
    "    std = std_df.std(axis=0,skipna=True)\n",
    "    fig, ax = plt.subplots(nrows=1,ncols=1,figsize=[10,4])\n",
    "    fig.suptitle(\"average with standard deviation over all apical regions, mask \"+ file_names[i])\n",
    "    avg = []\n",
    "    for y in Y:\n",
    "        avg.append(y) # Creating list of averages of measurement data\n",
    "    ax.plot(X, avg, label=\"Average\") # Plotting average of measurement data\n",
    "    ax.errorbar(X[0::10],avg[0::10],std[0::10], linestyle='None',\n",
    "               marker='^', label=\"Standard Deviation\") # Std plotting of every 10th point's std\n",
    "    ax.set(ylabel=\"340nm/380nm\")\n",
    "    ax.set(xlabel=\"time (s)\")\n",
    "    ax.legend(loc = 'best')\n",
    "    # Save Std figure to pdf\n",
    "    fig.savefig(resultsdirs[i] + \"/std_plot_\" + file_names[i] + \"-stimALL.pdf\")\n",
    "    #plt.show()\n",
    "    plt.close() # Frees up memory\n",
    "print(\"Done.\") # Inform User that codeblock is done running"
   ]
  },
  {
   "cell_type": "markdown",
   "metadata": {},
   "source": [
    "# Optional plotting of individual pixel intensities of each ROI and average"
   ]
  },
  {
   "cell_type": "code",
   "execution_count": 18,
   "metadata": {
    "jupyter": {
     "source_hidden": true
    }
   },
   "outputs": [
    {
     "name": "stdout",
     "output_type": "stream",
     "text": [
      "Done.\n"
     ]
    }
   ],
   "source": [
    "%matplotlib inline\n",
    "\n",
    "for i in range(0,len(baseline_imgs)):\n",
    "    B0 = io.imread(file_locations_ratio[i], plugin=\"tifffile\")\n",
    "    #io.imsave(resultsdirs[i] + \"/\" + file_names[i] + \"-roi_mask_labelled.tif\", np.int16(Rs[i]), check_contrast=False) # Save labeled ROI Mask for movie\n",
    "    X = np.array(range(B0.shape[0])) * (1/image_fps) # The timebase\n",
    "    for c in ROIs[i]:\n",
    "        if(c==0):\n",
    "            continue\n",
    "        fig, ax = plt.subplots(nrows=1, ncols=1, figsize = [10, 4])\n",
    "        fig.suptitle('apical region ' + str(c)+ \": individual pixels and average, \" + file_names[i] + \" - \" + str(COUNTs[i][c]) + \" pixels\")\n",
    "        S = B0[:,Rs[i]==ROIs[i][c]] / 1000\n",
    "        np.seterr(invalid='ignore') # Prevents printout of true_divide error\n",
    "        T = np.sum(S, axis=1) / np.count_nonzero(S,axis=1) # Summation of all pixel values at each time point divided by number of non-zero pixels\n",
    "        T[np.isnan(T)] = 0 # Converting any NAN values to actual value (zero)\n",
    "        ax.plot(X, S)\n",
    "        ax.plot(X, T, color='black')\n",
    "        ax.set(ylabel=\"340nm/380nm\")\n",
    "        ax.set(xlabel=\"time (s)\")\n",
    "    \n",
    "        # Save figure to pdf\n",
    "        s = \"/apical_region_\" + str(c).zfill(2) + \"-individual_pixels_mask-\" + file_names[i] + \".pdf\"\n",
    "        fig.savefig(resultsdirs[i] + s)\n",
    "        #plt.show()\n",
    "        plt.close() # Frees up memory\n",
    "print(\"Done.\") # Inform User that codeblock is done running"
   ]
  },
  {
   "cell_type": "code",
   "execution_count": null,
   "metadata": {
    "jupyter": {
     "source_hidden": true
    }
   },
   "outputs": [],
   "source": []
  }
 ],
 "metadata": {
  "kernelspec": {
   "display_name": "Python 3 (ipykernel)",
   "language": "python",
   "name": "python3"
  },
  "language_info": {
   "codemirror_mode": {
    "name": "ipython",
    "version": 3
   },
   "file_extension": ".py",
   "mimetype": "text/x-python",
   "name": "python",
   "nbconvert_exporter": "python",
   "pygments_lexer": "ipython3",
   "version": "3.8.12"
  }
 },
 "nbformat": 4,
 "nbformat_minor": 4
}
